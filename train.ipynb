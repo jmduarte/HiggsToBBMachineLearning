{
 "cells": [
  {
   "cell_type": "code",
   "execution_count": 1,
   "metadata": {},
   "outputs": [
    {
     "name": "stderr",
     "output_type": "stream",
     "text": [
      "Using TensorFlow backend.\n"
     ]
    }
   ],
   "source": [
    "import keras\n",
    "import numpy as np\n",
    "import tables\n",
    "from keras.models import Model\n",
    "from keras.layers import Input, Dense, BatchNormalization\n",
    "from keras.callbacks import ModelCheckpoint, EarlyStopping\n",
    "from sklearn.metrics import roc_curve, auc\n",
    "import matplotlib.pyplot as plt"
   ]
  },
  {
   "cell_type": "code",
   "execution_count": 2,
   "metadata": {},
   "outputs": [],
   "source": [
    "# 34 features (with mass-sculpting ones)\n",
    "features = ['fj_jetNTracks',\n",
    "            'fj_nSV',\n",
    "            'fj_tau21',\n",
    "            'fj_tau32',\n",
    "            'fj_sdsj1_mult',\n",
    "            'fj_sdsj1_mass',\n",
    "            'fj_sdsj2_mult',\n",
    "            'fj_sdsj2_mass',\n",
    "            'fj_n_sdsubjets',\n",
    "            'fj_tau0_trackEtaRel_0',\n",
    "            'fj_tau0_trackEtaRel_1',\n",
    "            'fj_tau0_trackEtaRel_2',\n",
    "            'fj_tau1_trackEtaRel_0',\n",
    "            'fj_tau1_trackEtaRel_1',\n",
    "            'fj_tau1_trackEtaRel_2',\n",
    "            'fj_tau_flightDistance2dSig_0',\n",
    "            'fj_tau_flightDistance2dSig_1',\n",
    "            'fj_tau_vertexDeltaR_0',\n",
    "            'fj_tau_vertexEnergyRatio_0',\n",
    "            'fj_tau_vertexEnergyRatio_1',\n",
    "            'fj_tau_vertexMass_0',\n",
    "            'fj_tau_vertexMass_1',\n",
    "            'fj_trackSip2dSigAboveBottom_0',\n",
    "            'fj_trackSip2dSigAboveBottom_1',\n",
    "            'fj_trackSip2dSigAboveCharm_0',\n",
    "            'fj_trackSipdSig_0',\n",
    "            'fj_trackSipdSig_0_0',\n",
    "            'fj_trackSipdSig_0_1',\n",
    "            'fj_trackSipdSig_1',\n",
    "            'fj_trackSipdSig_1_0',\n",
    "            'fj_trackSipdSig_1_1',\n",
    "            'fj_trackSipdSig_2',\n",
    "            'fj_trackSipdSig_3',\n",
    "            'fj_z_ratio']\n",
    "\n",
    "# spectators to define mass/pT window\n",
    "spectators = ['fj_sdmass',\n",
    "              'fj_pt']\n",
    "\n",
    "# 2 labels: QCD or Hbb\n",
    "labels = ['fj_isQCD*sample_isQCD',\n",
    "          'fj_isH*fj_isBB']\n",
    "\n",
    "label_names = ['truthQCD', \n",
    "               'truthHbb']\n",
    "\n",
    "nfeatures = len(features)\n",
    "nspectators = len(spectators)\n",
    "nlabels = len(labels)"
   ]
  },
  {
   "cell_type": "code",
   "execution_count": 3,
   "metadata": {},
   "outputs": [],
   "source": [
    "def get_features_labels(file_name, remove_mass_pt_window=True):\n",
    "    # load file\n",
    "    h5file = tables.open_file(file_name, 'r')\n",
    "    njets = getattr(h5file.root,features[0]).shape[0]\n",
    "\n",
    "    # allocate arrays\n",
    "    feature_array = np.zeros((njets,nfeatures))\n",
    "    spec_array = np.zeros((njets,nspectators))\n",
    "    label_array = np.zeros((njets,nlabels))\n",
    "\n",
    "    # load feature arrays\n",
    "    for (i, feat) in enumerate(features):\n",
    "        feature_array[:,i] = getattr(h5file.root,feat)[:]\n",
    "\n",
    "    # load spectator arrays\n",
    "    for (i, spec) in enumerate(spectators):\n",
    "        spec_array[:,i] = getattr(h5file.root,spec)[:]\n",
    "\n",
    "    # load labels arrays\n",
    "    for (i, label) in enumerate(labels):\n",
    "        prods = label.split('*')\n",
    "        prod0 = prods[0]\n",
    "        prod1 = prods[1]\n",
    "        fact0 = getattr(h5file.root,prod0)[:]\n",
    "        fact1 = getattr(h5file.root,prod1)[:]\n",
    "        label_array[:,i] = np.multiply(fact0,fact1)\n",
    "\n",
    "    # remove samples outside mass/pT window\n",
    "    if remove_mass_pt_window:\n",
    "        mask = (spec_array[:,0] > 40) & (spec_array[:,0] < 200) & (spec_array[:,1] > 300) & (spec_array[:,1] < 2000)\n",
    "        feature_array = feature_array[mask]\n",
    "        label_array = label_array[mask]\n",
    "        spec_array = spec_array[mask]\n",
    "\n",
    "    mask = np.sum(label_array,axis=1)==1\n",
    "    feature_array = feature_array[mask]\n",
    "    label_array = label_array[mask]\n",
    "    spec_array = spec_array[mask]\n",
    "\n",
    "    h5file.close()\n",
    "    return feature_array, label_array, spec_array"
   ]
  },
  {
   "cell_type": "code",
   "execution_count": 4,
   "metadata": {},
   "outputs": [],
   "source": [
    "# copy training file if it doesn't exist\n",
    "import os.path\n",
    "if not os.path.isfile('ntuple_merged_10.h5'): \n",
    "    !xrdcp root://eospublic.cern.ch//eos/opendata/cms/datascience/HiggsToBBNtupleProducerTool/HiggsToBBNTuple_HiggsToBB_QCD_RunII_13TeV_MC/train/ntuple_merged_10.h5 .\n",
    "\n",
    "# load training file\n",
    "feature_array, label_array, spec_array = get_features_labels('ntuple_merged_10.h5', remove_mass_pt_window=False)"
   ]
  },
  {
   "cell_type": "code",
   "execution_count": 5,
   "metadata": {},
   "outputs": [
    {
     "name": "stderr",
     "output_type": "stream",
     "text": [
      "WARNING: Logging before flag parsing goes to stderr.\n",
      "W0919 21:09:09.057026 4563711424 deprecation_wrapper.py:119] From /Users/jduarte/miniconda3/envs/keras-training/lib/python3.6/site-packages/keras/backend/tensorflow_backend.py:517: The name tf.placeholder is deprecated. Please use tf.compat.v1.placeholder instead.\n",
      "\n",
      "W0919 21:09:09.129199 4563711424 deprecation_wrapper.py:119] From /Users/jduarte/miniconda3/envs/keras-training/lib/python3.6/site-packages/keras/backend/tensorflow_backend.py:131: The name tf.get_default_graph is deprecated. Please use tf.compat.v1.get_default_graph instead.\n",
      "\n",
      "W0919 21:09:09.130017 4563711424 deprecation_wrapper.py:119] From /Users/jduarte/miniconda3/envs/keras-training/lib/python3.6/site-packages/keras/backend/tensorflow_backend.py:133: The name tf.placeholder_with_default is deprecated. Please use tf.compat.v1.placeholder_with_default instead.\n",
      "\n",
      "W0919 21:09:09.144122 4563711424 deprecation_wrapper.py:119] From /Users/jduarte/miniconda3/envs/keras-training/lib/python3.6/site-packages/keras/backend/tensorflow_backend.py:4138: The name tf.random_uniform is deprecated. Please use tf.random.uniform instead.\n",
      "\n",
      "W0919 21:09:09.179319 4563711424 deprecation_wrapper.py:119] From /Users/jduarte/miniconda3/envs/keras-training/lib/python3.6/site-packages/keras/optimizers.py:790: The name tf.train.Optimizer is deprecated. Please use tf.compat.v1.train.Optimizer instead.\n",
      "\n",
      "W0919 21:09:09.195941 4563711424 deprecation_wrapper.py:119] From /Users/jduarte/miniconda3/envs/keras-training/lib/python3.6/site-packages/keras/backend/tensorflow_backend.py:3295: The name tf.log is deprecated. Please use tf.math.log instead.\n",
      "\n"
     ]
    },
    {
     "name": "stdout",
     "output_type": "stream",
     "text": [
      "_________________________________________________________________\n",
      "Layer (type)                 Output Shape              Param #   \n",
      "=================================================================\n",
      "input (InputLayer)           (None, 34)                0         \n",
      "_________________________________________________________________\n",
      "bn_1 (BatchNormalization)    (None, 34)                136       \n",
      "_________________________________________________________________\n",
      "dense_1 (Dense)              (None, 64)                2240      \n",
      "_________________________________________________________________\n",
      "dense_2 (Dense)              (None, 32)                2080      \n",
      "_________________________________________________________________\n",
      "dense_3 (Dense)              (None, 32)                1056      \n",
      "_________________________________________________________________\n",
      "output (Dense)               (None, 2)                 66        \n",
      "=================================================================\n",
      "Total params: 5,578\n",
      "Trainable params: 5,510\n",
      "Non-trainable params: 68\n",
      "_________________________________________________________________\n",
      "None\n"
     ]
    }
   ],
   "source": [
    "# define dense keras model\n",
    "inputs = Input(shape=(nfeatures,), name = 'input')  \n",
    "x = BatchNormalization(name='bn_1')(inputs)\n",
    "x = Dense(64, name = 'dense_1', activation='relu')(x)\n",
    "x = Dense(32, name = 'dense_2', activation='relu')(x)\n",
    "x = Dense(32, name = 'dense_3', activation='relu')(x)\n",
    "outputs = Dense(nlabels, name = 'output', activation='softmax')(x)\n",
    "keras_model = Model(inputs=inputs, outputs=outputs)\n",
    "keras_model.compile(optimizer='adam', loss='categorical_crossentropy', metrics=['accuracy'])\n",
    "print(keras_model.summary())"
   ]
  },
  {
   "cell_type": "code",
   "execution_count": 6,
   "metadata": {},
   "outputs": [
    {
     "name": "stderr",
     "output_type": "stream",
     "text": [
      "W0919 21:09:09.272994 4563711424 deprecation.py:323] From /Users/jduarte/miniconda3/envs/keras-training/lib/python3.6/site-packages/tensorflow/python/ops/math_grad.py:1250: add_dispatch_support.<locals>.wrapper (from tensorflow.python.ops.array_ops) is deprecated and will be removed in a future version.\n",
      "Instructions for updating:\n",
      "Use tf.where in 2.0, which has the same broadcast rule as np.where\n"
     ]
    },
    {
     "name": "stdout",
     "output_type": "stream",
     "text": [
      "Train on 150255 samples, validate on 37564 samples\n",
      "Epoch 1/10\n",
      "150255/150255 [==============================] - 2s 13us/step - loss: 0.2321 - acc: 0.9135 - val_loss: 0.1770 - val_acc: 0.9318\n",
      "Epoch 2/10\n",
      "150255/150255 [==============================] - 1s 6us/step - loss: 0.1698 - acc: 0.9346 - val_loss: 0.1650 - val_acc: 0.9363\n",
      "Epoch 3/10\n",
      "150255/150255 [==============================] - 1s 6us/step - loss: 0.1604 - acc: 0.9379 - val_loss: 0.1584 - val_acc: 0.9393\n",
      "Epoch 4/10\n",
      "150255/150255 [==============================] - 1s 6us/step - loss: 0.1549 - acc: 0.9403 - val_loss: 0.1541 - val_acc: 0.9408\n",
      "Epoch 5/10\n",
      "150255/150255 [==============================] - 1s 6us/step - loss: 0.1512 - acc: 0.9414 - val_loss: 0.1516 - val_acc: 0.9418\n",
      "Epoch 6/10\n",
      "150255/150255 [==============================] - 1s 6us/step - loss: 0.1486 - acc: 0.9422 - val_loss: 0.1498 - val_acc: 0.9424\n",
      "Epoch 7/10\n",
      "150255/150255 [==============================] - 1s 6us/step - loss: 0.1466 - acc: 0.9433 - val_loss: 0.1483 - val_acc: 0.9425\n",
      "Epoch 8/10\n",
      "150255/150255 [==============================] - 1s 6us/step - loss: 0.1449 - acc: 0.9441 - val_loss: 0.1474 - val_acc: 0.9431\n",
      "Epoch 9/10\n",
      "150255/150255 [==============================] - 1s 6us/step - loss: 0.1436 - acc: 0.9446 - val_loss: 0.1467 - val_acc: 0.9432\n",
      "Epoch 10/10\n",
      "150255/150255 [==============================] - 1s 6us/step - loss: 0.1424 - acc: 0.9450 - val_loss: 0.1461 - val_acc: 0.9435\n"
     ]
    },
    {
     "data": {
      "text/plain": [
       "<keras.callbacks.History at 0x1410ae2e8>"
      ]
     },
     "execution_count": 6,
     "metadata": {},
     "output_type": "execute_result"
    }
   ],
   "source": [
    "# define callbacks\n",
    "early_stopping = EarlyStopping(monitor='val_loss', patience=10)\n",
    "model_checkpoint = ModelCheckpoint('keras_model_best.h5', monitor='val_loss', save_best_only=True)\n",
    "callbacks = [early_stopping, model_checkpoint]\n",
    "\n",
    "# fit keras model\n",
    "keras_model.fit(feature_array, label_array, batch_size=1024, \n",
    "                epochs=10, validation_split=0.2, shuffle=False,\n",
    "                callbacks = callbacks)"
   ]
  },
  {
   "cell_type": "code",
   "execution_count": 7,
   "metadata": {},
   "outputs": [],
   "source": [
    "# copy testing file if it doesn't exist\n",
    "import os.path\n",
    "if not os.path.isfile('ntuple_merged_0.h5'): \n",
    "    !xrdcp root://eospublic.cern.ch//eos/opendata/cms/datascience/HiggsToBBNtupleProducerTool/HiggsToBBNTuple_HiggsToBB_QCD_RunII_13TeV_MC/test/ntuple_merged_0.h5 .\n",
    "        \n",
    "# load testing file\n",
    "feature_array_test, label_array_test, spec_array_test = get_features_labels('ntuple_merged_0.h5')"
   ]
  },
  {
   "cell_type": "code",
   "execution_count": 8,
   "metadata": {},
   "outputs": [
    {
     "data": {
      "image/png": "[encoded data removed]",
      "text/plain": [
       "<Figure size 432x288 with 1 Axes>"
      ]
     },
     "metadata": {
      "needs_background": "light"
     },
     "output_type": "display_data"
    }
   ],
   "source": [
    "# reload best weights\n",
    "keras_model.load_weights('keras_model_best.h5')\n",
    "\n",
    "# run model inference on test data set\n",
    "predict_array_test = keras_model.predict(feature_array_test)\n",
    "# run model inference on training data set\n",
    "predict_array = keras_model.predict(feature_array)\n",
    "\n",
    "# create ROC curve\n",
    "fpr, tpr, threshold = roc_curve(label_array_test[:,1], predict_array_test[:,1])\n",
    "\n",
    "fpr_train, tpr_traim, threshold_train = roc_curve(label_array[:,1], predict_array[:,1])\n",
    "    \n",
    "# plot ROC curve\n",
    "plt.figure()\n",
    "plt.plot(tpr, fpr, lw=2.5, label=\"AUC = {:.1f}%\".format(auc(fpr,tpr)*100))\n",
    "plt.xlabel(r'True positive rate')\n",
    "plt.ylabel(r'False positive rate')\n",
    "plt.semilogy()\n",
    "plt.ylim(0.001,1)\n",
    "plt.xlim(0,1)\n",
    "plt.grid(True)\n",
    "plt.legend(loc='upper left')\n",
    "plt.tight_layout()\n",
    "plt.savefig('ROC.png')\n",
    "plt.savefig('ROC.pdf')"
   ]
  },
  {
   "cell_type": "code",
   "execution_count": 9,
   "metadata": {},
   "outputs": [],
   "source": [
    "\n",
    "FPR_cut = 0.001\n",
    "\n",
    "\n",
    "def find_nearest(array,value):\n",
    "    idx = (np.abs(array-value)).argmin()\n",
    "    return idx, array[idx]\n",
    "idx, val = find_nearest(fpr_train,FPR_cut)\n",
    "threshold_val = threshold_train[idx]"
   ]
  },
  {
   "cell_type": "code",
   "execution_count": 10,
   "metadata": {},
   "outputs": [
    {
     "data": {
      "image/png": "[encoded data removed]",
      "text/plain": [
       "<Figure size 432x288 with 1 Axes>"
      ]
     },
     "metadata": {
      "needs_background": "light"
     },
     "output_type": "display_data"
    }
   ],
   "source": [
    "import scipy\n",
    "import pandas as pd\n",
    "\n",
    "predict_names = ['predictQCD','predictHbb']\n",
    "frame = pd.DataFrame(np.hstack([feature_array_test,\n",
    "                                label_array_test,\n",
    "                                spec_array_test,\n",
    "                                predict_array_test]), \n",
    "                     columns = features+label_names+spectators+predict_names)\n",
    "\n",
    "train_frame = pd.DataFrame(np.hstack([feature_array,\n",
    "                                label_array,\n",
    "                                spec_array,\n",
    "                                predict_array]), \n",
    "                     columns = features+label_names+spectators+predict_names)\n",
    "\n",
    "plt.figure()\n",
    "plt.hist(frame['fj_sdmass'], weights = frame['truthQCD']*(frame['predictHbb']>threshold_val), \n",
    "         bins=np.linspace(40,200,8+1),alpha=0.5,density=True)\n",
    "plt.hist(train_frame['fj_sdmass'], weights = train_frame['truthQCD']*(train_frame['predictHbb']>threshold_val), \n",
    "         bins=np.linspace(40,200,8+1),alpha=0.5,density=True)\n",
    "plt.show()"
   ]
  },
  {
   "cell_type": "code",
   "execution_count": 11,
   "metadata": {},
   "outputs": [
    {
     "name": "stdout",
     "output_type": "stream",
     "text": [
      "Fitting Quantile Reg. of FPR = 0.001\n",
      "      Iter       Train Loss   Remaining Time \n",
      "         1         886.1757           17.05s\n",
      "         2         863.0134           14.85s\n",
      "         3         843.3581           14.23s\n",
      "         4         822.7620           14.83s\n",
      "         5         804.9247           14.95s\n",
      "         6         788.0758           15.12s\n",
      "         7         774.0569           15.26s\n",
      "         8         761.3887           15.38s\n",
      "         9         750.6868           15.41s\n",
      "        10         739.7898           15.52s\n",
      "        20         676.6607           15.41s\n",
      "        30         657.7395           14.81s\n"
     ]
    },
    {
     "data": {
      "image/png": "[encoded data removed]",
      "text/plain": [
       "<Figure size 432x288 with 1 Axes>"
      ]
     },
     "metadata": {
      "needs_background": "light"
     },
     "output_type": "display_data"
    }
   ],
   "source": [
    "from sklearn.ensemble import GradientBoostingRegressor\n",
    "\n",
    "def quantile_regression_DDT(dfs, dfs_train, FPR_cut): \n",
    "        \n",
    "    print('Fitting Quantile Reg. of FPR = ' + str(FPR_cut))\n",
    "    data_train = [[mass, pT] for mass, pT in zip(dfs_train.loc[dfs_train['truthQCD'] == 1]['fj_sdmass'].values , dfs_train.loc[dfs_train['truthQCD'] == 1]['fj_pt'].values)]\n",
    "    data = [[mass, pT] for mass, pT in zip(dfs['fj_sdmass'].values , dfs['fj_pt'].values)]\n",
    "    \n",
    "    if FPR_cut > 0.1:\n",
    "        aux_scale = 0.1*float(FPR_cut)/3000.\n",
    "        \n",
    "    else: \n",
    "        aux_scale = 0.1*float(FPR_cut)/100.\n",
    "            \n",
    "    model = GradientBoostingRegressor(loss='quantile', alpha= 1 - float(FPR_cut), \n",
    "                                          n_estimators=250, \n",
    "                                          min_samples_leaf=3, min_samples_split=3, \n",
    "                                          max_depth=5, \n",
    "                                          validation_fraction=0.2, \n",
    "                                          n_iter_no_change=5, tol=1e-4, \n",
    "                                          verbose=1)\n",
    "    model.fit(data_train, dfs_train.loc[dfs_train['truthQCD'] == 1]['predictHbb'].values/aux_scale)\n",
    "        \n",
    "    cuts = aux_scale*model.predict(data)\n",
    "    return cuts\n",
    "\n",
    "frame['predictHbbDDT'] = frame['predictHbb'] - quantile_regression_DDT(frame,train_frame,FPR_cut)\n",
    "\n",
    "plt.figure()\n",
    "plt.hist(frame['fj_sdmass'], weights = frame['truthQCD']*(frame['predictHbbDDT']>0), \n",
    "         bins=np.linspace(40,200,8+1),alpha=0.5,density=True)\n",
    "plt.show()"
   ]
  },
  {
   "cell_type": "code",
   "execution_count": 12,
   "metadata": {},
   "outputs": [
    {
     "name": "stdout",
     "output_type": "stream",
     "text": [
      "(45.78822052251856, 38.09783607050967)\n",
      "5.7130238636575035\n",
      "20.835263810591528\n"
     ]
    }
   ],
   "source": [
    "def get_jsd_limit(frame=[], epsilonB=0.01):   \n",
    "    ndatapoints = 100\n",
    "        \n",
    "    mmin = 40\n",
    "    mmax = 200\n",
    "    nbins = 8\n",
    "        \n",
    "    frame = frame.loc[frame['truthQCD'] == 1]\n",
    "    N = len(frame)\n",
    "    nB = N*epsilonB\n",
    "        \n",
    "    kld = []\n",
    "    for i in range(ndatapoints): \n",
    "        nB_exp = np.random.poisson(nB)\n",
    "            \n",
    "        index_b = np.random.choice(int(N), int(nB_exp),replace=False)\n",
    "        index_a = np.delete(range(N), index_b)\n",
    "            \n",
    "        frame_a = frame.iloc[index_a]\n",
    "        frame_b = frame.iloc[index_b] \n",
    "            \n",
    "        mass_a = frame_a['fj_sdmass'].values\n",
    "        mass_b = frame_b['fj_sdmass'].values\n",
    "\n",
    "        # digitize into bins\n",
    "        spec_pass = np.digitize(mass_a, bins=np.linspace(mmin,mmax,nbins+1), right=False)-1\n",
    "        spec_fail = np.digitize(mass_b, bins=np.linspace(mmin,mmax,nbins+1), right=False)-1\n",
    "            \n",
    "        # one hot encoding\n",
    "        spec_ohe_pass = np.zeros((spec_pass.shape[0],nbins))\n",
    "        spec_ohe_pass[np.arange(spec_pass.shape[0]),spec_pass] = 1\n",
    "        spec_ohe_pass_sum = np.sum(spec_ohe_pass,axis=0)/spec_ohe_pass.shape[0]\n",
    "        spec_ohe_fail = np.zeros((spec_fail.shape[0],nbins))\n",
    "        spec_ohe_fail[np.arange(spec_fail.shape[0]),spec_fail] = 1\n",
    "        spec_ohe_fail_sum = np.sum(spec_ohe_fail,axis=0)/spec_ohe_fail.shape[0]\n",
    "        M = 0.5*spec_ohe_pass_sum+0.5*spec_ohe_fail_sum\n",
    "        kld_pass = scipy.stats.entropy(spec_ohe_pass_sum,M,base=2)\n",
    "        kld_fail = scipy.stats.entropy(spec_ohe_fail_sum,M,base=2)\n",
    "        jsd = 0.5*kld_pass+0.5*kld_fail\n",
    "\n",
    "        kld.append(1./jsd)      \n",
    "\n",
    "    return(np.mean(kld), np.std(kld))\n",
    "    \n",
    "def get_jsd(frame=[], epsilonB=0.01, var = 'predictHbbDDT'):   \n",
    "\n",
    "        mmin = 40\n",
    "        mmax = 200\n",
    "        nbins = 8\n",
    "        \n",
    "        frame = frame.loc[frame['truthQCD'] == 1]\n",
    "                \n",
    "        if var=='predictHbbDDT':\n",
    "            threshold_val = 0\n",
    "        else:   \n",
    "            idx, val = find_nearest(fpr_train,epsilonB)\n",
    "            # FIX THRESHOLD VALUE, FPR DEPENDING ON VARIABLE TYPE!\n",
    "            threshold_val = threshold_train[idx]\n",
    "            \n",
    "            \n",
    "        frame_a = frame[frame[str(var)]>threshold_val]\n",
    "        frame_b = frame[frame[str(var)]<threshold_val]\n",
    "            \n",
    "        mass_a = frame_a['fj_sdmass'].values\n",
    "        mass_b = frame_b['fj_sdmass'].values\n",
    "\n",
    "        # digitize into bins\n",
    "        spec_pass = np.digitize(mass_a, bins=np.linspace(mmin,mmax,nbins+1), right=False)-1\n",
    "        spec_fail = np.digitize(mass_b, bins=np.linspace(mmin,mmax,nbins+1), right=False)-1\n",
    "            \n",
    "        # one hot encoding\n",
    "        spec_ohe_pass = np.zeros((spec_pass.shape[0],nbins))\n",
    "        spec_ohe_pass[np.arange(spec_pass.shape[0]),spec_pass] = 1\n",
    "        spec_ohe_pass_sum = np.sum(spec_ohe_pass,axis=0)/spec_ohe_pass.shape[0]\n",
    "        spec_ohe_fail = np.zeros((spec_fail.shape[0],nbins))\n",
    "        spec_ohe_fail[np.arange(spec_fail.shape[0]),spec_fail] = 1\n",
    "        spec_ohe_fail_sum = np.sum(spec_ohe_fail,axis=0)/spec_ohe_fail.shape[0]\n",
    "        M = 0.5*spec_ohe_pass_sum+0.5*spec_ohe_fail_sum\n",
    "        kld_pass = scipy.stats.entropy(spec_ohe_pass_sum,M,base=2)\n",
    "        kld_fail = scipy.stats.entropy(spec_ohe_fail_sum,M,base=2)\n",
    "        jsd = 0.5*kld_pass+0.5*kld_fail\n",
    "\n",
    "        return(1./jsd)\n",
    "    \n",
    "print(get_jsd_limit(frame, epsilonB=FPR_cut))\n",
    "print(get_jsd(frame, epsilonB=FPR_cut, var = 'predictHbb'))\n",
    "print(get_jsd(frame, epsilonB=FPR_cut, var = 'predictHbbDDT'))"
   ]
  },
  {
   "cell_type": "code",
   "execution_count": null,
   "metadata": {},
   "outputs": [],
   "source": []
  },
  {
   "cell_type": "code",
   "execution_count": null,
   "metadata": {},
   "outputs": [],
   "source": []
  }
 ],
 "metadata": {
  "kernelspec": {
   "display_name": "Python 3",
   "language": "python",
   "name": "python3"
  },
  "language_info": {
   "codemirror_mode": {
    "name": "ipython",
    "version": 3
   },
   "file_extension": ".py",
   "mimetype": "text/x-python",
   "name": "python",
   "nbconvert_exporter": "python",
   "pygments_lexer": "ipython3",
   "version": "3.6.9"
  }
 },
 "nbformat": 4,
 "nbformat_minor": 4
}
