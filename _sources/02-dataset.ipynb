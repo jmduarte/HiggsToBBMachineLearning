{
 "cells": [
  {
   "cell_type": "markdown",
   "metadata": {},
   "source": [
    "Week 2: Data Formats and Exploration\n",
    "==============================================================="
   ]
  },
  {
   "cell_type": "code",
   "execution_count": 1,
   "metadata": {},
   "outputs": [],
   "source": [
    "import uproot"
   ]
  },
  {
   "cell_type": "code",
   "execution_count": 2,
   "metadata": {},
   "outputs": [],
   "source": [
    "f = uproot.open('root://eospublic.cern.ch//eos/opendata/cms/datascience/HiggsToBBNtupleProducerTool/HiggsToBBNTuple_HiggsToBB_QCD_RunII_13TeV_MC/train/ntuple_merged_10.root')"
   ]
  },
  {
   "cell_type": "code",
   "execution_count": 3,
   "metadata": {},
   "outputs": [],
   "source": [
    "tree = f['deepntuplizer/tree']"
   ]
  },
  {
   "cell_type": "code",
   "execution_count": 4,
   "metadata": {},
   "outputs": [
    {
     "name": "stdout",
     "output_type": "stream",
     "text": [
      "Delta_gen_pt               (no streamer)              asdtype('>f4')\n",
      "event_no                   (no streamer)              asdtype('>u4')\n",
      "gen_pt                     (no streamer)              asdtype('>f4')\n",
      "isB                        (no streamer)              asdtype('>i4')\n",
      "isBB                       (no streamer)              asdtype('>i4')\n",
      "isC                        (no streamer)              asdtype('>i4')\n",
      "isG                        (no streamer)              asdtype('>i4')\n",
      "isLeptonicB                (no streamer)              asdtype('>i4')\n",
      "isLeptonicB_C              (no streamer)              asdtype('>i4')\n",
      "isS                        (no streamer)              asdtype('>i4')\n",
      "isUD                       (no streamer)              asdtype('>i4')\n",
      "isUndefined                (no streamer)              asdtype('>i4')\n",
      "jet_corr_pt                (no streamer)              asdtype('>f4')\n",
      "jet_eta                    (no streamer)              asdtype('>f4')\n",
      "jet_looseId                (no streamer)              asdtype('>f4')\n",
      "jet_no                     (no streamer)              asdtype('>u4')\n",
      "jet_phi                    (no streamer)              asdtype('>f4')\n",
      "jet_pt                     (no streamer)              asdtype('>f4')\n",
      "jet_tightId                (no streamer)              asdtype('>f4')\n",
      "npv                        (no streamer)              asdtype('>f4')\n",
      "ntrueInt                   (no streamer)              asdtype('>f4')\n",
      "pfBoostedDoubleSecondaryVertexAK8BJetTags\n",
      "                           (no streamer)              asdtype('>f4')\n",
      "pfCombinedInclusiveSecondaryVertexV2BJetTags\n",
      "                           (no streamer)              asdtype('>f4')\n",
      "pfCombinedMVAV2BJetTags    (no streamer)              asdtype('>f4')\n",
      "pfDeepCSVJetTags_probb     (no streamer)              asdtype('>f4')\n",
      "pfDeepCSVJetTags_probbb    (no streamer)              asdtype('>f4')\n",
      "pfDeepCSVJetTags_probc     (no streamer)              asdtype('>f4')\n",
      "pfDeepCSVJetTags_probcc    (no streamer)              asdtype('>f4')\n",
      "pfDeepCSVJetTags_probudsg  (no streamer)              asdtype('>f4')\n",
      "pfJetBProbabilityBJetTags  (no streamer)              asdtype('>f4')\n",
      "pfJetProbabilityBJetTags   (no streamer)              asdtype('>f4')\n",
      "rho                        (no streamer)              asdtype('>f4')\n",
      "softPFElectronBJetTags     (no streamer)              asdtype('>f4')\n",
      "softPFMuonBJetTags         (no streamer)              asdtype('>f4')\n",
      "fj_doubleb                 (no streamer)              asdtype('>f4')\n",
      "fj_eta                     (no streamer)              asdtype('>f4')\n",
      "fj_gen_eta                 (no streamer)              asdtype('>f4')\n",
      "fj_gen_pt                  (no streamer)              asdtype('>f4')\n",
      "fj_isBB                    (no streamer)              asdtype('>i4')\n",
      "fj_isH                     (no streamer)              asdtype('>i4')\n",
      "fj_isNonBB                 (no streamer)              asdtype('>i4')\n",
      "fj_isQCD                   (no streamer)              asdtype('>i4')\n",
      "fj_isTop                   (no streamer)              asdtype('>i4')\n",
      "fj_isW                     (no streamer)              asdtype('>i4')\n",
      "fj_isZ                     (no streamer)              asdtype('>i4')\n",
      "fj_jetNTracks              (no streamer)              asdtype('>f4')\n",
      "fj_label                   (no streamer)              asdtype('>i4')\n",
      "fj_labelJMAR               (no streamer)              asdtype('>i4')\n",
      "fj_labelLegacy             (no streamer)              asdtype('>i4')\n",
      "fj_mass                    (no streamer)              asdtype('>f4')\n",
      "fj_nSV                     (no streamer)              asdtype('>f4')\n",
      "fj_n_sdsubjets             (no streamer)              asdtype('>f4')\n",
      "fj_nbHadrons               (no streamer)              asdtype('>i4')\n",
      "fj_ncHadrons               (no streamer)              asdtype('>i4')\n",
      "fj_phi                     (no streamer)              asdtype('>f4')\n",
      "fj_pt                      (no streamer)              asdtype('>f4')\n",
      "fj_ptDR                    (no streamer)              asdtype('>f4')\n",
      "fj_relptdiff               (no streamer)              asdtype('>f4')\n",
      "fj_sdmass                  (no streamer)              asdtype('>f4')\n",
      "fj_sdn2                    (no streamer)              asdtype('>f4')\n",
      "fj_sdsj1_axis1             (no streamer)              asdtype('>f4')\n",
      "fj_sdsj1_axis2             (no streamer)              asdtype('>f4')\n",
      "fj_sdsj1_csv               (no streamer)              asdtype('>f4')\n",
      "fj_sdsj1_eta               (no streamer)              asdtype('>f4')\n",
      "fj_sdsj1_mass              (no streamer)              asdtype('>f4')\n",
      "fj_sdsj1_mult              (no streamer)              asdtype('>f4')\n",
      "fj_sdsj1_phi               (no streamer)              asdtype('>f4')\n",
      "fj_sdsj1_pt                (no streamer)              asdtype('>f4')\n",
      "fj_sdsj1_ptD               (no streamer)              asdtype('>f4')\n",
      "fj_sdsj2_axis1             (no streamer)              asdtype('>f4')\n",
      "fj_sdsj2_axis2             (no streamer)              asdtype('>f4')\n",
      "fj_sdsj2_csv               (no streamer)              asdtype('>f4')\n",
      "fj_sdsj2_eta               (no streamer)              asdtype('>f4')\n",
      "fj_sdsj2_mass              (no streamer)              asdtype('>f4')\n",
      "fj_sdsj2_mult              (no streamer)              asdtype('>f4')\n",
      "fj_sdsj2_phi               (no streamer)              asdtype('>f4')\n",
      "fj_sdsj2_pt                (no streamer)              asdtype('>f4')\n",
      "fj_sdsj2_ptD               (no streamer)              asdtype('>f4')\n",
      "fj_tau0_trackEtaRel_0      (no streamer)              asdtype('>f4')\n",
      "fj_tau0_trackEtaRel_1      (no streamer)              asdtype('>f4')\n",
      "fj_tau0_trackEtaRel_2      (no streamer)              asdtype('>f4')\n",
      "fj_tau1                    (no streamer)              asdtype('>f4')\n",
      "fj_tau1_trackEtaRel_0      (no streamer)              asdtype('>f4')\n",
      "fj_tau1_trackEtaRel_1      (no streamer)              asdtype('>f4')\n",
      "fj_tau1_trackEtaRel_2      (no streamer)              asdtype('>f4')\n",
      "fj_tau2                    (no streamer)              asdtype('>f4')\n",
      "fj_tau21                   (no streamer)              asdtype('>f4')\n",
      "fj_tau3                    (no streamer)              asdtype('>f4')\n",
      "fj_tau32                   (no streamer)              asdtype('>f4')\n",
      "fj_tau_flightDistance2dSig_0\n",
      "                           (no streamer)              asdtype('>f4')\n",
      "fj_tau_flightDistance2dSig_1\n",
      "                           (no streamer)              asdtype('>f4')\n",
      "fj_tau_vertexDeltaR_0      (no streamer)              asdtype('>f4')\n",
      "fj_tau_vertexEnergyRatio_0 (no streamer)              asdtype('>f4')\n",
      "fj_tau_vertexEnergyRatio_1 (no streamer)              asdtype('>f4')\n",
      "fj_tau_vertexMass_0        (no streamer)              asdtype('>f4')\n",
      "fj_tau_vertexMass_1        (no streamer)              asdtype('>f4')\n",
      "fj_trackSip2dSigAboveBottom_0\n",
      "                           (no streamer)              asdtype('>f4')\n",
      "fj_trackSip2dSigAboveBottom_1\n",
      "                           (no streamer)              asdtype('>f4')\n",
      "fj_trackSip2dSigAboveCharm_0\n",
      "                           (no streamer)              asdtype('>f4')\n",
      "fj_trackSipdSig_0          (no streamer)              asdtype('>f4')\n",
      "fj_trackSipdSig_0_0        (no streamer)              asdtype('>f4')\n",
      "fj_trackSipdSig_0_1        (no streamer)              asdtype('>f4')\n",
      "fj_trackSipdSig_1          (no streamer)              asdtype('>f4')\n",
      "fj_trackSipdSig_1_0        (no streamer)              asdtype('>f4')\n",
      "fj_trackSipdSig_1_1        (no streamer)              asdtype('>f4')\n",
      "fj_trackSipdSig_2          (no streamer)              asdtype('>f4')\n",
      "fj_trackSipdSig_3          (no streamer)              asdtype('>f4')\n",
      "fj_z_ratio                 (no streamer)              asdtype('>f4')\n",
      "label_H_bb                 (no streamer)              asdtype('>i4')\n",
      "label_H_cc                 (no streamer)              asdtype('>i4')\n",
      "label_H_qqqq               (no streamer)              asdtype('>i4')\n",
      "label_QCD_b                (no streamer)              asdtype('>i4')\n",
      "label_QCD_bb               (no streamer)              asdtype('>i4')\n",
      "label_QCD_c                (no streamer)              asdtype('>i4')\n",
      "label_QCD_cc               (no streamer)              asdtype('>i4')\n",
      "label_QCD_others           (no streamer)              asdtype('>i4')\n",
      "label_Top_bc               (no streamer)              asdtype('>i4')\n",
      "label_Top_bcq              (no streamer)              asdtype('>i4')\n",
      "label_Top_bq               (no streamer)              asdtype('>i4')\n",
      "label_Top_bqq              (no streamer)              asdtype('>i4')\n",
      "label_W_cq                 (no streamer)              asdtype('>i4')\n",
      "label_W_qq                 (no streamer)              asdtype('>i4')\n",
      "label_Z_bb                 (no streamer)              asdtype('>i4')\n",
      "label_Z_cc                 (no streamer)              asdtype('>i4')\n",
      "label_Z_qq                 (no streamer)              asdtype('>i4')\n",
      "sample_isQCD               (no streamer)              asdtype('>i4')\n",
      "n_pfcands                  (no streamer)              asdtype('>i4')\n",
      "npfcands                   (no streamer)              asdtype('>f4')\n",
      "pfcand_VTX_ass             TStreamerSTL               asjagged(asdtype('>f4'), 10)\n",
      "pfcand_charge              TStreamerSTL               asjagged(asdtype('>f4'), 10)\n",
      "pfcand_deltaR              TStreamerSTL               asjagged(asdtype('>f4'), 10)\n",
      "pfcand_drminsv             TStreamerSTL               asjagged(asdtype('>f4'), 10)\n",
      "pfcand_drsubjet1           TStreamerSTL               asjagged(asdtype('>f4'), 10)\n",
      "pfcand_drsubjet2           TStreamerSTL               asjagged(asdtype('>f4'), 10)\n",
      "pfcand_dxy                 TStreamerSTL               asjagged(asdtype('>f4'), 10)\n",
      "pfcand_dxysig              TStreamerSTL               asjagged(asdtype('>f4'), 10)\n",
      "pfcand_dz                  TStreamerSTL               asjagged(asdtype('>f4'), 10)\n",
      "pfcand_dzsig               TStreamerSTL               asjagged(asdtype('>f4'), 10)\n",
      "pfcand_erel                TStreamerSTL               asjagged(asdtype('>f4'), 10)\n",
      "pfcand_etarel              TStreamerSTL               asjagged(asdtype('>f4'), 10)\n",
      "pfcand_fromPV              TStreamerSTL               asjagged(asdtype('>f4'), 10)\n",
      "pfcand_hcalFrac            TStreamerSTL               asjagged(asdtype('>f4'), 10)\n",
      "pfcand_isChargedHad        TStreamerSTL               asjagged(asdtype('>f4'), 10)\n",
      "pfcand_isEl                TStreamerSTL               asjagged(asdtype('>f4'), 10)\n",
      "pfcand_isGamma             TStreamerSTL               asjagged(asdtype('>f4'), 10)\n",
      "pfcand_isMu                TStreamerSTL               asjagged(asdtype('>f4'), 10)\n",
      "pfcand_isNeutralHad        TStreamerSTL               asjagged(asdtype('>f4'), 10)\n",
      "pfcand_lostInnerHits       TStreamerSTL               asjagged(asdtype('>f4'), 10)\n",
      "pfcand_mass                TStreamerSTL               asjagged(asdtype('>f4'), 10)\n",
      "pfcand_phirel              TStreamerSTL               asjagged(asdtype('>f4'), 10)\n",
      "pfcand_ptrel               TStreamerSTL               asjagged(asdtype('>f4'), 10)\n",
      "pfcand_puppiw              TStreamerSTL               asjagged(asdtype('>f4'), 10)\n",
      "n_tracks                   (no streamer)              asdtype('>i4')\n",
      "ntracks                    (no streamer)              asdtype('>f4')\n",
      "trackBTag_DeltaR           TStreamerSTL               asjagged(asdtype('>f4'), 10)\n",
      "trackBTag_Eta              TStreamerSTL               asjagged(asdtype('>f4'), 10)\n",
      "trackBTag_EtaRel           TStreamerSTL               asjagged(asdtype('>f4'), 10)\n",
      "trackBTag_JetDistVal       TStreamerSTL               asjagged(asdtype('>f4'), 10)\n",
      "trackBTag_Momentum         TStreamerSTL               asjagged(asdtype('>f4'), 10)\n",
      "trackBTag_PPar             TStreamerSTL               asjagged(asdtype('>f4'), 10)\n",
      "trackBTag_PParRatio        TStreamerSTL               asjagged(asdtype('>f4'), 10)\n",
      "trackBTag_PtRatio          TStreamerSTL               asjagged(asdtype('>f4'), 10)\n",
      "trackBTag_PtRel            TStreamerSTL               asjagged(asdtype('>f4'), 10)\n",
      "trackBTag_Sip2dSig         TStreamerSTL               asjagged(asdtype('>f4'), 10)\n",
      "trackBTag_Sip2dVal         TStreamerSTL               asjagged(asdtype('>f4'), 10)\n",
      "trackBTag_Sip3dSig         TStreamerSTL               asjagged(asdtype('>f4'), 10)\n",
      "trackBTag_Sip3dVal         TStreamerSTL               asjagged(asdtype('>f4'), 10)\n",
      "track_VTX_ass              TStreamerSTL               asjagged(asdtype('>f4'), 10)\n",
      "track_charge               TStreamerSTL               asjagged(asdtype('>f4'), 10)\n",
      "track_deltaR               TStreamerSTL               asjagged(asdtype('>f4'), 10)\n",
      "track_detadeta             TStreamerSTL               asjagged(asdtype('>f4'), 10)\n",
      "track_dlambdadz            TStreamerSTL               asjagged(asdtype('>f4'), 10)\n",
      "track_dphidphi             TStreamerSTL               asjagged(asdtype('>f4'), 10)\n",
      "track_dphidxy              TStreamerSTL               asjagged(asdtype('>f4'), 10)\n",
      "track_dptdpt               TStreamerSTL               asjagged(asdtype('>f4'), 10)\n",
      "track_drminsv              TStreamerSTL               asjagged(asdtype('>f4'), 10)\n",
      "track_drsubjet1            TStreamerSTL               asjagged(asdtype('>f4'), 10)\n",
      "track_drsubjet2            TStreamerSTL               asjagged(asdtype('>f4'), 10)\n",
      "track_dxy                  TStreamerSTL               asjagged(asdtype('>f4'), 10)\n",
      "track_dxydxy               TStreamerSTL               asjagged(asdtype('>f4'), 10)\n",
      "track_dxydz                TStreamerSTL               asjagged(asdtype('>f4'), 10)\n",
      "track_dxysig               TStreamerSTL               asjagged(asdtype('>f4'), 10)\n",
      "track_dz                   TStreamerSTL               asjagged(asdtype('>f4'), 10)\n",
      "track_dzdz                 TStreamerSTL               asjagged(asdtype('>f4'), 10)\n",
      "track_dzsig                TStreamerSTL               asjagged(asdtype('>f4'), 10)\n",
      "track_erel                 TStreamerSTL               asjagged(asdtype('>f4'), 10)\n",
      "track_etarel               TStreamerSTL               asjagged(asdtype('>f4'), 10)\n",
      "track_fromPV               TStreamerSTL               asjagged(asdtype('>f4'), 10)\n",
      "track_isChargedHad         TStreamerSTL               asjagged(asdtype('>f4'), 10)\n",
      "track_isEl                 TStreamerSTL               asjagged(asdtype('>f4'), 10)\n",
      "track_isMu                 TStreamerSTL               asjagged(asdtype('>f4'), 10)\n",
      "track_lostInnerHits        TStreamerSTL               asjagged(asdtype('>f4'), 10)\n",
      "track_mass                 TStreamerSTL               asjagged(asdtype('>f4'), 10)\n",
      "track_normchi2             TStreamerSTL               asjagged(asdtype('>f4'), 10)\n",
      "track_phirel               TStreamerSTL               asjagged(asdtype('>f4'), 10)\n",
      "track_pt                   TStreamerSTL               asjagged(asdtype('>f4'), 10)\n",
      "track_ptrel                TStreamerSTL               asjagged(asdtype('>f4'), 10)\n",
      "track_puppiw               TStreamerSTL               asjagged(asdtype('>f4'), 10)\n",
      "track_quality              TStreamerSTL               asjagged(asdtype('>f4'), 10)\n",
      "n_sv                       (no streamer)              asdtype('>i4')\n",
      "nsv                        (no streamer)              asdtype('>f4')\n",
      "sv_chi2                    TStreamerSTL               asjagged(asdtype('>f4'), 10)\n",
      "sv_costhetasvpv            TStreamerSTL               asjagged(asdtype('>f4'), 10)\n",
      "sv_d3d                     TStreamerSTL               asjagged(asdtype('>f4'), 10)\n",
      "sv_d3derr                  TStreamerSTL               asjagged(asdtype('>f4'), 10)\n",
      "sv_d3dsig                  TStreamerSTL               asjagged(asdtype('>f4'), 10)\n",
      "sv_deltaR                  TStreamerSTL               asjagged(asdtype('>f4'), 10)\n",
      "sv_dxy                     TStreamerSTL               asjagged(asdtype('>f4'), 10)\n",
      "sv_dxyerr                  TStreamerSTL               asjagged(asdtype('>f4'), 10)\n",
      "sv_dxysig                  TStreamerSTL               asjagged(asdtype('>f4'), 10)\n",
      "sv_erel                    TStreamerSTL               asjagged(asdtype('>f4'), 10)\n",
      "sv_etarel                  TStreamerSTL               asjagged(asdtype('>f4'), 10)\n",
      "sv_mass                    TStreamerSTL               asjagged(asdtype('>f4'), 10)\n",
      "sv_ndf                     TStreamerSTL               asjagged(asdtype('>f4'), 10)\n",
      "sv_normchi2                TStreamerSTL               asjagged(asdtype('>f4'), 10)\n",
      "sv_ntracks                 TStreamerSTL               asjagged(asdtype('>f4'), 10)\n",
      "sv_phirel                  TStreamerSTL               asjagged(asdtype('>f4'), 10)\n",
      "sv_pt                      TStreamerSTL               asjagged(asdtype('>f4'), 10)\n",
      "sv_ptrel                   TStreamerSTL               asjagged(asdtype('>f4'), 10)\n"
     ]
    }
   ],
   "source": [
    "tree.show()"
   ]
  },
  {
   "cell_type": "code",
   "execution_count": 5,
   "metadata": {},
   "outputs": [],
   "source": [
    "labels = tree.arrays(branches=['label_QCD_b', \n",
    "                               'label_QCD_bb', \n",
    "                               'label_QCD_c', \n",
    "                               'label_QCD_cc', \n",
    "                               'label_QCD_others', \n",
    "                               'label_H_bb', \n",
    "                               'sample_isQCD'], \n",
    "                     entrystop=20000)"
   ]
  },
  {
   "cell_type": "code",
   "execution_count": 6,
   "metadata": {},
   "outputs": [],
   "source": [
    "# label QCD: require the sample to be QCD and any of the QCD flavors\n",
    "label_QCD = labels[b'sample_isQCD'] * (labels[b'label_QCD_b']+labels[b'label_QCD_bb']+labels[b'label_QCD_c']+labels[b'label_QCD_cc']+labels[b'label_QCD_others'])\n",
    "\n",
    "# label Hbb\n",
    "label_Hbb = labels[b'label_H_bb']"
   ]
  },
  {
   "cell_type": "code",
   "execution_count": 7,
   "metadata": {},
   "outputs": [
    {
     "data": {
      "text/plain": [
       "0"
      ]
     },
     "execution_count": 7,
     "metadata": {},
     "output_type": "execute_result"
    }
   ],
   "source": [
    "# number of overlap events\n",
    "sum(label_QCD*label_Hbb) "
   ]
  },
  {
   "cell_type": "code",
   "execution_count": 8,
   "metadata": {},
   "outputs": [
    {
     "data": {
      "text/plain": [
       "18757"
      ]
     },
     "execution_count": 8,
     "metadata": {},
     "output_type": "execute_result"
    }
   ],
   "source": [
    "# number of events with some truth label defined \n",
    "sum(label_QCD+label_Hbb)"
   ]
  },
  {
   "cell_type": "code",
   "execution_count": 9,
   "metadata": {},
   "outputs": [
    {
     "data": {
      "text/plain": [
       "20000"
      ]
     },
     "execution_count": 9,
     "metadata": {},
     "output_type": "execute_result"
    }
   ],
   "source": [
    "# total number of events \n",
    "len(label_QCD+label_Hbb)"
   ]
  },
  {
   "cell_type": "code",
   "execution_count": 10,
   "metadata": {},
   "outputs": [],
   "source": [
    "jet_features = tree.arrays(branches=['fj_pt', \n",
    "                                     'fj_sdmass',\n",
    "                                     'fj_tau21'],\n",
    "                          entrystop=20000)"
   ]
  },
  {
   "cell_type": "code",
   "execution_count": 11,
   "metadata": {},
   "outputs": [
    {
     "data": {
      "image/png": "[encoded data removed]",
      "text/plain": [
       "<Figure size 432x288 with 1 Axes>"
      ]
     },
     "metadata": {
      "needs_background": "light"
     },
     "output_type": "display_data"
    },
    {
     "data": {
      "image/png": "[encoded data removed]",
      "text/plain": [
       "<Figure size 432x288 with 1 Axes>"
      ]
     },
     "metadata": {
      "needs_background": "light"
     },
     "output_type": "display_data"
    }
   ],
   "source": [
    "import matplotlib.pyplot as plt\n",
    "import numpy as np\n",
    "\n",
    "plt.figure()\n",
    "\n",
    "plt.hist(jet_features[b'fj_pt'],weights=label_QCD,bins=np.linspace(0,4000,101),density=True,alpha=0.7,label='QCD')\n",
    "plt.hist(jet_features[b'fj_pt'],weights=label_Hbb,bins=np.linspace(0,4000,101),density=True,alpha=0.7,label='H(bb)')\n",
    "plt.legend()\n",
    "\n",
    "plt.figure()\n",
    "\n",
    "plt.hist(jet_features[b'fj_sdmass'],weights=label_QCD,bins=np.linspace(0,300,101),density=True,alpha=0.7,label='QCD')\n",
    "plt.hist(jet_features[b'fj_sdmass'],weights=label_Hbb,bins=np.linspace(0,300,101),density=True,alpha=0.7,label='H(bb)')\n",
    "plt.legend()\n",
    "\n",
    "plt.show()"
   ]
  },
  {
   "cell_type": "code",
   "execution_count": 12,
   "metadata": {},
   "outputs": [
    {
     "data": {
      "image/png": "[encoded data removed]",
      "text/plain": [
       "<Figure size 432x288 with 1 Axes>"
      ]
     },
     "metadata": {
      "needs_background": "light"
     },
     "output_type": "display_data"
    }
   ],
   "source": [
    "plt.figure()\n",
    "\n",
    "plt.hist(jet_features[b'fj_tau21'],weights=label_QCD,bins=np.linspace(0,1,101),density=True,alpha=0.7,label='QCD')\n",
    "plt.hist(jet_features[b'fj_tau21'],weights=label_Hbb,bins=np.linspace(0,1,101),density=True,alpha=0.7,label='H(bb)')\n",
    "plt.legend()\n",
    "\n",
    "plt.show()"
   ]
  },
  {
   "cell_type": "code",
   "execution_count": null,
   "metadata": {},
   "outputs": [],
   "source": []
  }
 ],
 "metadata": {
  "kernelspec": {
   "display_name": "Python 3",
   "language": "python",
   "name": "python3"
  },
  "language_info": {
   "codemirror_mode": {
    "name": "ipython",
    "version": 3
   },
   "file_extension": ".py",
   "mimetype": "text/x-python",
   "name": "python",
   "nbconvert_exporter": "python",
   "pygments_lexer": "ipython3",
   "version": "3.7.6"
  }
 },
 "nbformat": 4,
 "nbformat_minor": 4
}
