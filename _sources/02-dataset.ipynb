{
 "cells": [
  {
   "cell_type": "markdown",
   "metadata": {},
   "source": [
    "Week 2: Data Formats and Exploration\n",
    "===============================================================\n",
    "\n",
    "Particle physics uses a data format (and analysis ecosystem) based on the `ROOT` library: https://root.cern.ch/.\n",
    "`ROOT` is a framework for data processing, born at CERN, at the heart of the research on high-energy physics. \n",
    "A `ROOT` file is a compressed binary file in which we can save objects of any type.\n",
    "There are python bindings built into `ROOT`, so called `PyROOT`, but for now we won't discuss this.\n",
    "\n",
    "Recently, a different library called `uproot` has been developed allowing python users to do `ROOT` I/O directly: https://uproot.readthedocs.io/en/latest/.\n",
    "`uproot` is a reader and a writer of the `ROOT` file format using only `Python` and `Numpy`. \n",
    "Unlike the standard C++ `ROOT` implementation, uproot is only an I/O library, primarily intended to stream data into machine learning libraries in `Python`. \n",
    "Unlike `PyROOT` and `root_numpy`, uproot does not depend on C++ `ROOT`. \n",
    "Instead, it uses `Numpy` to cast blocks of data from the `ROOT` file as `Numpy` arrays.\n",
    "\n",
    "\n",
    "For a tutorial on `uproot`, see: https://hsf-training.github.io/hsf-training-uproot-webpage/ or here: https://github.com/jpivarski-talks/2020-07-13-pyhep2020-tutorial."
   ]
  },
  {
   "cell_type": "code",
   "execution_count": 1,
   "metadata": {},
   "outputs": [],
   "source": [
    "import uproot"
   ]
  },
  {
   "cell_type": "markdown",
   "metadata": {},
   "source": [
    "## Remote files\n",
    "One nice feature of `ROOT` and `uproot` is the ability to read a file remotely. \n",
    "This is done using the `XRootD` library: https://xrootd.slac.stanford.edu/.\n",
    "`XRootD` is a generic suite for fast, low latency and scalable data access, which can serve natively any kind of data, organized as a hierarchical filesystem-like namespace, based on the concept of directory. \n",
    "\n",
    "## XRootD filenames\n",
    "We specify that this is a remote file accessed via `XRootD` using the `root://` protocol in front of the filename. \n",
    "The redirector `eospublic.cern.ch` specifies that we're accessing data from the CERN open data repository. \n",
    "And finally the rest of the file name `/eos/opendata/cms/datascience/HiggsToBBNtupleProducerTool/HiggsToBBNTuple_HiggsToBB_QCD_RunII_13TeV_MC/train/ntuple_merged_10.root` specifies the exact file."
   ]
  },
  {
   "cell_type": "code",
   "execution_count": 2,
   "metadata": {},
   "outputs": [],
   "source": [
    "f = uproot.open('root://eospublic.cern.ch//eos/opendata/cms/datascience/HiggsToBBNtupleProducerTool/HiggsToBBNTuple_HiggsToBB_QCD_RunII_13TeV_MC/train/ntuple_merged_10.root')"
   ]
  },
  {
   "cell_type": "markdown",
   "metadata": {},
   "source": [
    "## Trees\n",
    "One common object is a tree. \n",
    "Trees in `ROOT` are basically just tables of information. \n",
    "Trees are composed of branches, which are the columns of the table. \n",
    "The rows usually represent events (individual bunch crossings).\n",
    "However, in this case, each row represents a jet (a localized collection of particles within a single event).\n",
    "\n",
    "First we assign the tree to a variable (named `tree` here).\n",
    "We can see how many rows (jets) are contained in the tree, by checking its length."
   ]
  },
  {
   "cell_type": "code",
   "execution_count": 3,
   "metadata": {},
   "outputs": [
    {
     "name": "stdout",
     "output_type": "stream",
     "text": [
      "200000\n"
     ]
    }
   ],
   "source": [
    "tree = f['deepntuplizer/tree']\n",
    "print(len(tree))"
   ]
  },
  {
   "cell_type": "markdown",
   "metadata": {},
   "source": [
    "Let's list the contents (branches) of the tree."
   ]
  },
  {
   "cell_type": "code",
   "execution_count": 4,
   "metadata": {},
   "outputs": [
    {
     "name": "stdout",
     "output_type": "stream",
     "text": [
      "Delta_gen_pt               (no streamer)              asdtype('>f4')\n",
      "event_no                   (no streamer)              asdtype('>u4')\n",
      "gen_pt                     (no streamer)              asdtype('>f4')\n",
      "isB                        (no streamer)              asdtype('>i4')\n",
      "isBB                       (no streamer)              asdtype('>i4')\n",
      "isC                        (no streamer)              asdtype('>i4')\n",
      "isG                        (no streamer)              asdtype('>i4')\n",
      "isLeptonicB                (no streamer)              asdtype('>i4')\n",
      "isLeptonicB_C              (no streamer)              asdtype('>i4')\n",
      "isS                        (no streamer)              asdtype('>i4')\n",
      "isUD                       (no streamer)              asdtype('>i4')\n",
      "isUndefined                (no streamer)              asdtype('>i4')\n",
      "jet_corr_pt                (no streamer)              asdtype('>f4')\n",
      "jet_eta                    (no streamer)              asdtype('>f4')\n",
      "jet_looseId                (no streamer)              asdtype('>f4')\n",
      "jet_no                     (no streamer)              asdtype('>u4')\n",
      "jet_phi                    (no streamer)              asdtype('>f4')\n",
      "jet_pt                     (no streamer)              asdtype('>f4')\n",
      "jet_tightId                (no streamer)              asdtype('>f4')\n",
      "npv                        (no streamer)              asdtype('>f4')\n",
      "ntrueInt                   (no streamer)              asdtype('>f4')\n",
      "pfBoostedDoubleSecondaryVertexAK8BJetTags\n",
      "                           (no streamer)              asdtype('>f4')\n",
      "pfCombinedInclusiveSecondaryVertexV2BJetTags\n",
      "                           (no streamer)              asdtype('>f4')\n",
      "pfCombinedMVAV2BJetTags    (no streamer)              asdtype('>f4')\n",
      "pfDeepCSVJetTags_probb     (no streamer)              asdtype('>f4')\n",
      "pfDeepCSVJetTags_probbb    (no streamer)              asdtype('>f4')\n",
      "pfDeepCSVJetTags_probc     (no streamer)              asdtype('>f4')\n",
      "pfDeepCSVJetTags_probcc    (no streamer)              asdtype('>f4')\n",
      "pfDeepCSVJetTags_probudsg  (no streamer)              asdtype('>f4')\n",
      "pfJetBProbabilityBJetTags  (no streamer)              asdtype('>f4')\n",
      "pfJetProbabilityBJetTags   (no streamer)              asdtype('>f4')\n",
      "rho                        (no streamer)              asdtype('>f4')\n",
      "softPFElectronBJetTags     (no streamer)              asdtype('>f4')\n",
      "softPFMuonBJetTags         (no streamer)              asdtype('>f4')\n",
      "fj_doubleb                 (no streamer)              asdtype('>f4')\n",
      "fj_eta                     (no streamer)              asdtype('>f4')\n",
      "fj_gen_eta                 (no streamer)              asdtype('>f4')\n",
      "fj_gen_pt                  (no streamer)              asdtype('>f4')\n",
      "fj_isBB                    (no streamer)              asdtype('>i4')\n",
      "fj_isH                     (no streamer)              asdtype('>i4')\n",
      "fj_isNonBB                 (no streamer)              asdtype('>i4')\n",
      "fj_isQCD                   (no streamer)              asdtype('>i4')\n",
      "fj_isTop                   (no streamer)              asdtype('>i4')\n",
      "fj_isW                     (no streamer)              asdtype('>i4')\n",
      "fj_isZ                     (no streamer)              asdtype('>i4')\n",
      "fj_jetNTracks              (no streamer)              asdtype('>f4')\n",
      "fj_label                   (no streamer)              asdtype('>i4')\n",
      "fj_labelJMAR               (no streamer)              asdtype('>i4')\n",
      "fj_labelLegacy             (no streamer)              asdtype('>i4')\n",
      "fj_mass                    (no streamer)              asdtype('>f4')\n",
      "fj_nSV                     (no streamer)              asdtype('>f4')\n",
      "fj_n_sdsubjets             (no streamer)              asdtype('>f4')\n",
      "fj_nbHadrons               (no streamer)              asdtype('>i4')\n",
      "fj_ncHadrons               (no streamer)              asdtype('>i4')\n",
      "fj_phi                     (no streamer)              asdtype('>f4')\n",
      "fj_pt                      (no streamer)              asdtype('>f4')\n",
      "fj_ptDR                    (no streamer)              asdtype('>f4')\n",
      "fj_relptdiff               (no streamer)              asdtype('>f4')\n",
      "fj_sdmass                  (no streamer)              asdtype('>f4')\n",
      "fj_sdn2                    (no streamer)              asdtype('>f4')\n",
      "fj_sdsj1_axis1             (no streamer)              asdtype('>f4')\n",
      "fj_sdsj1_axis2             (no streamer)              asdtype('>f4')\n",
      "fj_sdsj1_csv               (no streamer)              asdtype('>f4')\n",
      "fj_sdsj1_eta               (no streamer)              asdtype('>f4')\n",
      "fj_sdsj1_mass              (no streamer)              asdtype('>f4')\n",
      "fj_sdsj1_mult              (no streamer)              asdtype('>f4')\n",
      "fj_sdsj1_phi               (no streamer)              asdtype('>f4')\n",
      "fj_sdsj1_pt                (no streamer)              asdtype('>f4')\n",
      "fj_sdsj1_ptD               (no streamer)              asdtype('>f4')\n",
      "fj_sdsj2_axis1             (no streamer)              asdtype('>f4')\n",
      "fj_sdsj2_axis2             (no streamer)              asdtype('>f4')\n",
      "fj_sdsj2_csv               (no streamer)              asdtype('>f4')\n",
      "fj_sdsj2_eta               (no streamer)              asdtype('>f4')\n",
      "fj_sdsj2_mass              (no streamer)              asdtype('>f4')\n",
      "fj_sdsj2_mult              (no streamer)              asdtype('>f4')\n",
      "fj_sdsj2_phi               (no streamer)              asdtype('>f4')\n",
      "fj_sdsj2_pt                (no streamer)              asdtype('>f4')\n",
      "fj_sdsj2_ptD               (no streamer)              asdtype('>f4')\n",
      "fj_tau0_trackEtaRel_0      (no streamer)              asdtype('>f4')\n",
      "fj_tau0_trackEtaRel_1      (no streamer)              asdtype('>f4')\n",
      "fj_tau0_trackEtaRel_2      (no streamer)              asdtype('>f4')\n",
      "fj_tau1                    (no streamer)              asdtype('>f4')\n",
      "fj_tau1_trackEtaRel_0      (no streamer)              asdtype('>f4')\n",
      "fj_tau1_trackEtaRel_1      (no streamer)              asdtype('>f4')\n",
      "fj_tau1_trackEtaRel_2      (no streamer)              asdtype('>f4')\n",
      "fj_tau2                    (no streamer)              asdtype('>f4')\n",
      "fj_tau21                   (no streamer)              asdtype('>f4')\n",
      "fj_tau3                    (no streamer)              asdtype('>f4')\n",
      "fj_tau32                   (no streamer)              asdtype('>f4')\n",
      "fj_tau_flightDistance2dSig_0\n",
      "                           (no streamer)              asdtype('>f4')\n",
      "fj_tau_flightDistance2dSig_1\n",
      "                           (no streamer)              asdtype('>f4')\n",
      "fj_tau_vertexDeltaR_0      (no streamer)              asdtype('>f4')\n",
      "fj_tau_vertexEnergyRatio_0 (no streamer)              asdtype('>f4')\n",
      "fj_tau_vertexEnergyRatio_1 (no streamer)              asdtype('>f4')\n",
      "fj_tau_vertexMass_0        (no streamer)              asdtype('>f4')\n",
      "fj_tau_vertexMass_1        (no streamer)              asdtype('>f4')\n",
      "fj_trackSip2dSigAboveBottom_0\n",
      "                           (no streamer)              asdtype('>f4')\n",
      "fj_trackSip2dSigAboveBottom_1\n",
      "                           (no streamer)              asdtype('>f4')\n",
      "fj_trackSip2dSigAboveCharm_0\n",
      "                           (no streamer)              asdtype('>f4')\n",
      "fj_trackSipdSig_0          (no streamer)              asdtype('>f4')\n",
      "fj_trackSipdSig_0_0        (no streamer)              asdtype('>f4')\n",
      "fj_trackSipdSig_0_1        (no streamer)              asdtype('>f4')\n",
      "fj_trackSipdSig_1          (no streamer)              asdtype('>f4')\n",
      "fj_trackSipdSig_1_0        (no streamer)              asdtype('>f4')\n",
      "fj_trackSipdSig_1_1        (no streamer)              asdtype('>f4')\n",
      "fj_trackSipdSig_2          (no streamer)              asdtype('>f4')\n",
      "fj_trackSipdSig_3          (no streamer)              asdtype('>f4')\n",
      "fj_z_ratio                 (no streamer)              asdtype('>f4')\n",
      "label_H_bb                 (no streamer)              asdtype('>i4')\n",
      "label_H_cc                 (no streamer)              asdtype('>i4')\n",
      "label_H_qqqq               (no streamer)              asdtype('>i4')\n",
      "label_QCD_b                (no streamer)              asdtype('>i4')\n",
      "label_QCD_bb               (no streamer)              asdtype('>i4')\n",
      "label_QCD_c                (no streamer)              asdtype('>i4')\n",
      "label_QCD_cc               (no streamer)              asdtype('>i4')\n",
      "label_QCD_others           (no streamer)              asdtype('>i4')\n",
      "label_Top_bc               (no streamer)              asdtype('>i4')\n",
      "label_Top_bcq              (no streamer)              asdtype('>i4')\n",
      "label_Top_bq               (no streamer)              asdtype('>i4')\n",
      "label_Top_bqq              (no streamer)              asdtype('>i4')\n",
      "label_W_cq                 (no streamer)              asdtype('>i4')\n",
      "label_W_qq                 (no streamer)              asdtype('>i4')\n",
      "label_Z_bb                 (no streamer)              asdtype('>i4')\n",
      "label_Z_cc                 (no streamer)              asdtype('>i4')\n",
      "label_Z_qq                 (no streamer)              asdtype('>i4')\n",
      "sample_isQCD               (no streamer)              asdtype('>i4')\n",
      "n_pfcands                  (no streamer)              asdtype('>i4')\n",
      "npfcands                   (no streamer)              asdtype('>f4')\n",
      "pfcand_VTX_ass             TStreamerSTL               asjagged(asdtype('>f4'), 10)\n",
      "pfcand_charge              TStreamerSTL               asjagged(asdtype('>f4'), 10)\n",
      "pfcand_deltaR              TStreamerSTL               asjagged(asdtype('>f4'), 10)\n",
      "pfcand_drminsv             TStreamerSTL               asjagged(asdtype('>f4'), 10)\n",
      "pfcand_drsubjet1           TStreamerSTL               asjagged(asdtype('>f4'), 10)\n",
      "pfcand_drsubjet2           TStreamerSTL               asjagged(asdtype('>f4'), 10)\n",
      "pfcand_dxy                 TStreamerSTL               asjagged(asdtype('>f4'), 10)\n",
      "pfcand_dxysig              TStreamerSTL               asjagged(asdtype('>f4'), 10)\n",
      "pfcand_dz                  TStreamerSTL               asjagged(asdtype('>f4'), 10)\n",
      "pfcand_dzsig               TStreamerSTL               asjagged(asdtype('>f4'), 10)\n",
      "pfcand_erel                TStreamerSTL               asjagged(asdtype('>f4'), 10)\n",
      "pfcand_etarel              TStreamerSTL               asjagged(asdtype('>f4'), 10)\n",
      "pfcand_fromPV              TStreamerSTL               asjagged(asdtype('>f4'), 10)\n",
      "pfcand_hcalFrac            TStreamerSTL               asjagged(asdtype('>f4'), 10)\n",
      "pfcand_isChargedHad        TStreamerSTL               asjagged(asdtype('>f4'), 10)\n",
      "pfcand_isEl                TStreamerSTL               asjagged(asdtype('>f4'), 10)\n",
      "pfcand_isGamma             TStreamerSTL               asjagged(asdtype('>f4'), 10)\n",
      "pfcand_isMu                TStreamerSTL               asjagged(asdtype('>f4'), 10)\n",
      "pfcand_isNeutralHad        TStreamerSTL               asjagged(asdtype('>f4'), 10)\n",
      "pfcand_lostInnerHits       TStreamerSTL               asjagged(asdtype('>f4'), 10)\n",
      "pfcand_mass                TStreamerSTL               asjagged(asdtype('>f4'), 10)\n",
      "pfcand_phirel              TStreamerSTL               asjagged(asdtype('>f4'), 10)\n",
      "pfcand_ptrel               TStreamerSTL               asjagged(asdtype('>f4'), 10)\n",
      "pfcand_puppiw              TStreamerSTL               asjagged(asdtype('>f4'), 10)\n",
      "n_tracks                   (no streamer)              asdtype('>i4')\n",
      "ntracks                    (no streamer)              asdtype('>f4')\n",
      "trackBTag_DeltaR           TStreamerSTL               asjagged(asdtype('>f4'), 10)\n",
      "trackBTag_Eta              TStreamerSTL               asjagged(asdtype('>f4'), 10)\n",
      "trackBTag_EtaRel           TStreamerSTL               asjagged(asdtype('>f4'), 10)\n",
      "trackBTag_JetDistVal       TStreamerSTL               asjagged(asdtype('>f4'), 10)\n",
      "trackBTag_Momentum         TStreamerSTL               asjagged(asdtype('>f4'), 10)\n",
      "trackBTag_PPar             TStreamerSTL               asjagged(asdtype('>f4'), 10)\n",
      "trackBTag_PParRatio        TStreamerSTL               asjagged(asdtype('>f4'), 10)\n",
      "trackBTag_PtRatio          TStreamerSTL               asjagged(asdtype('>f4'), 10)\n",
      "trackBTag_PtRel            TStreamerSTL               asjagged(asdtype('>f4'), 10)\n",
      "trackBTag_Sip2dSig         TStreamerSTL               asjagged(asdtype('>f4'), 10)\n",
      "trackBTag_Sip2dVal         TStreamerSTL               asjagged(asdtype('>f4'), 10)\n",
      "trackBTag_Sip3dSig         TStreamerSTL               asjagged(asdtype('>f4'), 10)\n",
      "trackBTag_Sip3dVal         TStreamerSTL               asjagged(asdtype('>f4'), 10)\n",
      "track_VTX_ass              TStreamerSTL               asjagged(asdtype('>f4'), 10)\n",
      "track_charge               TStreamerSTL               asjagged(asdtype('>f4'), 10)\n",
      "track_deltaR               TStreamerSTL               asjagged(asdtype('>f4'), 10)\n",
      "track_detadeta             TStreamerSTL               asjagged(asdtype('>f4'), 10)\n",
      "track_dlambdadz            TStreamerSTL               asjagged(asdtype('>f4'), 10)\n",
      "track_dphidphi             TStreamerSTL               asjagged(asdtype('>f4'), 10)\n",
      "track_dphidxy              TStreamerSTL               asjagged(asdtype('>f4'), 10)\n",
      "track_dptdpt               TStreamerSTL               asjagged(asdtype('>f4'), 10)\n",
      "track_drminsv              TStreamerSTL               asjagged(asdtype('>f4'), 10)\n",
      "track_drsubjet1            TStreamerSTL               asjagged(asdtype('>f4'), 10)\n",
      "track_drsubjet2            TStreamerSTL               asjagged(asdtype('>f4'), 10)\n",
      "track_dxy                  TStreamerSTL               asjagged(asdtype('>f4'), 10)\n",
      "track_dxydxy               TStreamerSTL               asjagged(asdtype('>f4'), 10)\n",
      "track_dxydz                TStreamerSTL               asjagged(asdtype('>f4'), 10)\n",
      "track_dxysig               TStreamerSTL               asjagged(asdtype('>f4'), 10)\n",
      "track_dz                   TStreamerSTL               asjagged(asdtype('>f4'), 10)\n",
      "track_dzdz                 TStreamerSTL               asjagged(asdtype('>f4'), 10)\n",
      "track_dzsig                TStreamerSTL               asjagged(asdtype('>f4'), 10)\n",
      "track_erel                 TStreamerSTL               asjagged(asdtype('>f4'), 10)\n",
      "track_etarel               TStreamerSTL               asjagged(asdtype('>f4'), 10)\n",
      "track_fromPV               TStreamerSTL               asjagged(asdtype('>f4'), 10)\n",
      "track_isChargedHad         TStreamerSTL               asjagged(asdtype('>f4'), 10)\n",
      "track_isEl                 TStreamerSTL               asjagged(asdtype('>f4'), 10)\n",
      "track_isMu                 TStreamerSTL               asjagged(asdtype('>f4'), 10)\n",
      "track_lostInnerHits        TStreamerSTL               asjagged(asdtype('>f4'), 10)\n",
      "track_mass                 TStreamerSTL               asjagged(asdtype('>f4'), 10)\n",
      "track_normchi2             TStreamerSTL               asjagged(asdtype('>f4'), 10)\n",
      "track_phirel               TStreamerSTL               asjagged(asdtype('>f4'), 10)\n",
      "track_pt                   TStreamerSTL               asjagged(asdtype('>f4'), 10)\n",
      "track_ptrel                TStreamerSTL               asjagged(asdtype('>f4'), 10)\n",
      "track_puppiw               TStreamerSTL               asjagged(asdtype('>f4'), 10)\n",
      "track_quality              TStreamerSTL               asjagged(asdtype('>f4'), 10)\n",
      "n_sv                       (no streamer)              asdtype('>i4')\n",
      "nsv                        (no streamer)              asdtype('>f4')\n",
      "sv_chi2                    TStreamerSTL               asjagged(asdtype('>f4'), 10)\n",
      "sv_costhetasvpv            TStreamerSTL               asjagged(asdtype('>f4'), 10)\n",
      "sv_d3d                     TStreamerSTL               asjagged(asdtype('>f4'), 10)\n",
      "sv_d3derr                  TStreamerSTL               asjagged(asdtype('>f4'), 10)\n",
      "sv_d3dsig                  TStreamerSTL               asjagged(asdtype('>f4'), 10)\n",
      "sv_deltaR                  TStreamerSTL               asjagged(asdtype('>f4'), 10)\n",
      "sv_dxy                     TStreamerSTL               asjagged(asdtype('>f4'), 10)\n",
      "sv_dxyerr                  TStreamerSTL               asjagged(asdtype('>f4'), 10)\n",
      "sv_dxysig                  TStreamerSTL               asjagged(asdtype('>f4'), 10)\n",
      "sv_erel                    TStreamerSTL               asjagged(asdtype('>f4'), 10)\n",
      "sv_etarel                  TStreamerSTL               asjagged(asdtype('>f4'), 10)\n",
      "sv_mass                    TStreamerSTL               asjagged(asdtype('>f4'), 10)\n",
      "sv_ndf                     TStreamerSTL               asjagged(asdtype('>f4'), 10)\n",
      "sv_normchi2                TStreamerSTL               asjagged(asdtype('>f4'), 10)\n",
      "sv_ntracks                 TStreamerSTL               asjagged(asdtype('>f4'), 10)\n",
      "sv_phirel                  TStreamerSTL               asjagged(asdtype('>f4'), 10)\n",
      "sv_pt                      TStreamerSTL               asjagged(asdtype('>f4'), 10)\n",
      "sv_ptrel                   TStreamerSTL               asjagged(asdtype('>f4'), 10)\n"
     ]
    }
   ],
   "source": [
    "tree.show()"
   ]
  },
  {
   "cell_type": "markdown",
   "metadata": {},
   "source": [
    "## A note on \"jaggedness\"\n",
    "\n",
    "Some branches are listed has having an interpretation of `asdtype('>f4')` while some others are listed as `asjagged(asdtype('>f4'), 10)`.\n",
    "The former means there is only one number per jet.\n",
    "The latter means there may a variable number per jet. \n",
    "\n",
    "First, let's get just look at non-jagged arrays, starting with the ground truth labels."
   ]
  },
  {
   "cell_type": "code",
   "execution_count": 5,
   "metadata": {},
   "outputs": [
    {
     "data": {
      "text/plain": [
       "{'label_QCD_b': array([0, 0, 0, ..., 0, 0, 0], dtype=int32),\n",
       " 'label_QCD_bb': array([0, 0, 0, ..., 0, 0, 0], dtype=int32),\n",
       " 'label_QCD_c': array([0, 0, 0, ..., 0, 0, 0], dtype=int32),\n",
       " 'label_QCD_cc': array([0, 0, 0, ..., 0, 1, 1], dtype=int32),\n",
       " 'label_QCD_others': array([1, 1, 1, ..., 1, 0, 0], dtype=int32),\n",
       " 'label_H_bb': array([0, 0, 0, ..., 0, 0, 0], dtype=int32),\n",
       " 'sample_isQCD': array([1, 1, 1, ..., 1, 1, 1], dtype=int32)}"
      ]
     },
     "execution_count": 5,
     "metadata": {},
     "output_type": "execute_result"
    }
   ],
   "source": [
    "# Returns a dictionary\n",
    "labels = tree.arrays(branches=['label_QCD_b', \n",
    "                               'label_QCD_bb', \n",
    "                               'label_QCD_c', \n",
    "                               'label_QCD_cc', \n",
    "                               'label_QCD_others', \n",
    "                               'label_H_bb', \n",
    "                               'sample_isQCD'], \n",
    "                     entrystop=20000,\n",
    "                     namedecode='utf-8')\n",
    "labels"
   ]
  },
  {
   "cell_type": "code",
   "execution_count": 6,
   "metadata": {},
   "outputs": [],
   "source": [
    "# label QCD: require the sample to be QCD and any of the QCD flavors\n",
    "label_QCD = labels['sample_isQCD'] * (labels['label_QCD_b'] + \\\n",
    "                                      labels['label_QCD_bb'] + \\\n",
    "                                      labels['label_QCD_c'] + \\\n",
    "                                      labels['label_QCD_cc'] + \\\n",
    "                                      labels['label_QCD_others'])\n",
    "\n",
    "# label Hbb\n",
    "label_Hbb = labels['label_H_bb']"
   ]
  },
  {
   "cell_type": "code",
   "execution_count": 7,
   "metadata": {},
   "outputs": [
    {
     "data": {
      "text/plain": [
       "0"
      ]
     },
     "execution_count": 7,
     "metadata": {},
     "output_type": "execute_result"
    }
   ],
   "source": [
    "# number of overlap jets\n",
    "sum(label_QCD*label_Hbb) "
   ]
  },
  {
   "cell_type": "code",
   "execution_count": 8,
   "metadata": {},
   "outputs": [
    {
     "data": {
      "text/plain": [
       "0.93785"
      ]
     },
     "execution_count": 8,
     "metadata": {},
     "output_type": "execute_result"
    }
   ],
   "source": [
    "# fraction of jets with some truth label defined \n",
    "sum(label_QCD+label_Hbb)/len(label_QCD+label_Hbb)"
   ]
  },
  {
   "cell_type": "code",
   "execution_count": 9,
   "metadata": {},
   "outputs": [],
   "source": [
    "# jet features, namely transverse momemntum (pt) and soft-drop mass  (sdmass or msd)\n",
    "jet_features = tree.arrays(branches=['fj_pt', \n",
    "                                     'fj_sdmass'],\n",
    "                          entrystop=20000,\n",
    "                          namedecode='utf-8')"
   ]
  },
  {
   "cell_type": "code",
   "execution_count": 63,
   "metadata": {},
   "outputs": [
    {
     "data": {
      "image/png": "[encoded data removed]",
      "text/plain": [
       "<Figure size 432x288 with 1 Axes>"
      ]
     },
     "metadata": {
      "needs_background": "light"
     },
     "output_type": "display_data"
    },
    {
     "data": {
      "image/png": "[encoded data removed]",
      "text/plain": [
       "<Figure size 432x288 with 1 Axes>"
      ]
     },
     "metadata": {
      "needs_background": "light"
     },
     "output_type": "display_data"
    }
   ],
   "source": [
    "import matplotlib.pyplot as plt\n",
    "import numpy as np\n",
    "\n",
    "plt.figure()\n",
    "\n",
    "plt.hist(jet_features['fj_pt'],weights=label_QCD,bins=np.linspace(0,4000,101),density=True,alpha=0.7,label='QCD')\n",
    "plt.hist(jet_features['fj_pt'],weights=label_Hbb,bins=np.linspace(0,4000,101),density=True,alpha=0.7,label='H(bb)')\n",
    "plt.xlabel(r'Jet $p_{T}$ [GeV]')\n",
    "plt.ylabel('Fraction of jets')\n",
    "plt.legend()\n",
    "\n",
    "plt.figure()\n",
    "\n",
    "plt.hist(jet_features['fj_sdmass'],weights=label_QCD,bins=np.linspace(0,300,101),density=True,alpha=0.7,label='QCD')\n",
    "plt.hist(jet_features['fj_sdmass'],weights=label_Hbb,bins=np.linspace(0,300,101),density=True,alpha=0.7,label='H(bb)')\n",
    "plt.xlabel(r'Jet $m_{SD}$ [GeV]')\n",
    "plt.ylabel('Fraction of jets')\n",
    "plt.legend()\n",
    "\n",
    "plt.show()"
   ]
  },
  {
   "cell_type": "markdown",
   "metadata": {},
   "source": [
    "## Jagged arrys\n",
    "\n",
    "Now let's look at a jagged array, like those related to track features, where there can be a variable number of tracks per jet."
   ]
  },
  {
   "cell_type": "code",
   "execution_count": 39,
   "metadata": {},
   "outputs": [
    {
     "data": {
      "text/plain": [
       "{'track_pt': <JaggedArray [[1.0537109 0.95654297 1.4570312 ... 18.171875 1.6171875 1.234375] [2.7832031 3.5253906 49.09375 ... 3.8613281 1.4599609 1.4306641] [1.5302734 6.8164062 2.9257812 ... 25.6875 36.3125 1.1513672] ... [1.0810547 2.5234375 10.265625 ... 1.25 24.453125 8.4921875] [4.8125 2.6796875 3.9824219 ... 4.3359375 23.375 6.3242188] [2.4101562 1.4345703 2.4628906 ... 57.59375 1.0419922 2.9726562]] at 0x7fb00ddf33d0>,\n",
       " 'label_H_bb': array([0, 0, 0, ..., 0, 0, 0], dtype=int32)}"
      ]
     },
     "execution_count": 39,
     "metadata": {},
     "output_type": "execute_result"
    }
   ],
   "source": [
    "track_features = tree.arrays(branches=['track_pt',\n",
    "                                       'label_H_bb'],\n",
    "                             entrystop=20000,\n",
    "                             namedecode='utf-8')\n",
    "track_features"
   ]
  },
  {
   "cell_type": "markdown",
   "metadata": {},
   "source": [
    "Note the difference between a \"flat\" array, where these a fixed number per jet (like 1 per jet in the case of jet properties) and a jagged array, where there are a variable number. \n",
    "\n",
    "We can demonstrate this by looking at the first jet in the dataset. As we'll see there are 21 tracks, each with their own pt."
   ]
  },
  {
   "cell_type": "code",
   "execution_count": 28,
   "metadata": {},
   "outputs": [
    {
     "data": {
      "text/plain": [
       "251.27692"
      ]
     },
     "execution_count": 28,
     "metadata": {},
     "output_type": "execute_result"
    }
   ],
   "source": [
    "jet_features['fj_pt'][0]"
   ]
  },
  {
   "cell_type": "code",
   "execution_count": 29,
   "metadata": {},
   "outputs": [
    {
     "data": {
      "text/plain": [
       "array([ 1.0537109 ,  0.95654297,  1.4570312 ,  1.0917969 ,  3.1660156 ,\n",
       "        3.3886719 ,  6.8554688 ,  3.4257812 ,  1.8662109 ,  2.890625  ,\n",
       "        7.5898438 ,  1.4970703 ,  5.0117188 , 62.875     ,  7.0195312 ,\n",
       "       11.125     ,  4.5429688 , 14.125     , 18.171875  ,  1.6171875 ,\n",
       "        1.234375  ], dtype=float32)"
      ]
     },
     "execution_count": 29,
     "metadata": {},
     "output_type": "execute_result"
    }
   ],
   "source": [
    "track_features['track_pt'][0]"
   ]
  },
  {
   "cell_type": "markdown",
   "metadata": {},
   "source": [
    "Note, behind the scenes jagged arrays are just like normal numpy arrays, except there's additional structure, ecoded in the starts/stops/counts vectors."
   ]
  },
  {
   "cell_type": "code",
   "execution_count": 30,
   "metadata": {},
   "outputs": [
    {
     "data": {
      "text/plain": [
       "array([     0,     21,     56, ..., 542149, 542174, 542194])"
      ]
     },
     "execution_count": 30,
     "metadata": {},
     "output_type": "execute_result"
    }
   ],
   "source": [
    "track_features['track_pt'].starts"
   ]
  },
  {
   "cell_type": "code",
   "execution_count": 31,
   "metadata": {},
   "outputs": [
    {
     "data": {
      "text/plain": [
       "array([    21,     56,     80, ..., 542174, 542194, 542239])"
      ]
     },
     "execution_count": 31,
     "metadata": {},
     "output_type": "execute_result"
    }
   ],
   "source": [
    "track_features['track_pt'].stops"
   ]
  },
  {
   "cell_type": "code",
   "execution_count": 32,
   "metadata": {},
   "outputs": [
    {
     "data": {
      "text/plain": [
       "array([21, 35, 24, ..., 25, 20, 45])"
      ]
     },
     "execution_count": 32,
     "metadata": {},
     "output_type": "execute_result"
    }
   ],
   "source": [
    "track_features['track_pt'].counts"
   ]
  },
  {
   "cell_type": "markdown",
   "metadata": {},
   "source": [
    "## Operations with jaggedness\n",
    "\n",
    "We can plot the full distibution of track pts. But what if we want to find the highest track pt per jet and plot only that?"
   ]
  },
  {
   "cell_type": "code",
   "execution_count": 66,
   "metadata": {},
   "outputs": [
    {
     "data": {
      "image/png": "[encoded data removed]",
      "text/plain": [
       "<Figure size 432x288 with 1 Axes>"
      ]
     },
     "metadata": {
      "needs_background": "light"
     },
     "output_type": "display_data"
    }
   ],
   "source": [
    "plt.figure()\n",
    "plt.hist(track_features['track_pt'].flatten(),bins=np.linspace(0,100,101),density=True,alpha=0.7,label='All tracks')\n",
    "plt.hist(track_features['track_pt'].max(),bins=np.linspace(0,100,101),density=True,alpha=0.7,label=r'Max. $p_{T}$ track per jet')\n",
    "\n",
    "plt.xlabel(r'Track $p_{T}$')\n",
    "plt.ylabel('Fraction of tracks')\n",
    "plt.legend()\n",
    "plt.show()\n"
   ]
  },
  {
   "cell_type": "markdown",
   "metadata": {},
   "source": [
    "## Conversion to regular array\n",
    "\n",
    "Sometimes we want to turn a jagged array into a regular array to make it easier to accomodate into a machine learning algorithm (like a fully conneted or convolutional neural network). \n",
    "The simplest way to do this is to use zero-padding and truncation to \"cap\" the number of objects at some fixed value, and zero-pad if there are less objects.\n",
    "\n",
    "To do this, we can first plot how many tracks there are per jet and choose a reasonable number to cap."
   ]
  },
  {
   "cell_type": "code",
   "execution_count": 85,
   "metadata": {},
   "outputs": [
    {
     "data": {
      "image/png": "[encoded data removed]",
      "text/plain": [
       "<Figure size 432x288 with 1 Axes>"
      ]
     },
     "metadata": {
      "needs_background": "light"
     },
     "output_type": "display_data"
    }
   ],
   "source": [
    "plt.figure()\n",
    "plt.hist(track_features['track_pt'].counts,bins=np.linspace(0,100,101),density=True,alpha=0.7)\n",
    "\n",
    "plt.xlabel(r'Number of tracks')\n",
    "plt.ylabel('Fraction of jets')\n",
    "plt.show()"
   ]
  },
  {
   "cell_type": "markdown",
   "metadata": {},
   "source": [
    "In this case, 60 seems to be a reasonable number."
   ]
  },
  {
   "cell_type": "code",
   "execution_count": 86,
   "metadata": {},
   "outputs": [
    {
     "name": "stdout",
     "output_type": "stream",
     "text": [
      "(20000, 60)\n"
     ]
    },
    {
     "data": {
      "text/plain": [
       "array([[ 1.0537109 ,  0.95654297,  1.4570312 , ...,  0.        ,\n",
       "         0.        ,  0.        ],\n",
       "       [ 2.7832031 ,  3.5253906 , 49.09375   , ...,  0.        ,\n",
       "         0.        ,  0.        ],\n",
       "       [ 1.5302734 ,  6.8164062 ,  2.9257812 , ...,  0.        ,\n",
       "         0.        ,  0.        ],\n",
       "       ...,\n",
       "       [ 1.0810547 ,  2.5234375 , 10.265625  , ...,  0.        ,\n",
       "         0.        ,  0.        ],\n",
       "       [ 4.8125    ,  2.6796875 ,  3.9824219 , ...,  0.        ,\n",
       "         0.        ,  0.        ],\n",
       "       [ 2.4101562 ,  1.4345703 ,  2.4628906 , ...,  0.        ,\n",
       "         0.        ,  0.        ]], dtype=float32)"
      ]
     },
     "execution_count": 86,
     "metadata": {},
     "output_type": "execute_result"
    }
   ],
   "source": [
    "a = track_features['track_pt'].pad(60, clip=True).fillna(0).regular()\n",
    "print(a.shape)\n",
    "a"
   ]
  },
  {
   "cell_type": "code",
   "execution_count": null,
   "metadata": {},
   "outputs": [],
   "source": []
  }
 ],
 "metadata": {
  "kernelspec": {
   "display_name": "Python 3",
   "language": "python",
   "name": "python3"
  },
  "language_info": {
   "codemirror_mode": {
    "name": "ipython",
    "version": 3
   },
   "file_extension": ".py",
   "mimetype": "text/x-python",
   "name": "python",
   "nbconvert_exporter": "python",
   "pygments_lexer": "ipython3",
   "version": "3.7.6"
  }
 },
 "nbformat": 4,
 "nbformat_minor": 4
}
