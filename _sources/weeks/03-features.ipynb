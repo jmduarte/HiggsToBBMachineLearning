{
 "cells": [
  {
   "cell_type": "markdown",
   "metadata": {},
   "source": [
    "Week 3 Notebook: Feature Engineering\n",
    "===============================================================\n",
    "\n",
    "Many different kinds of features have been specially engineered to perform b-tagging. We will consider several of these today.\n",
    "\n",
    "## b hadrons\n",
    "\n",
    "B hadrons contain bottom quarks. \n",
    "These hadrons are unstable, meaning they naturally (and spontaneously) decay to hadrons containing lighter quarks, after a period of time (with a known median lifetime). \n",
    "\n",
    "Because of the large mass difference between bottom quarks and the lighter quarks, the lifetime of b hadrons tends to be relatively long: around $10^{-12}$ s. \n",
    "Given the fact that they are traveling near the speed of light, this means they can travel $O$(mm) in the detector before dacaying.\n",
    "The particle sproduced from this decay also tend to be higher energy\n",
    "\n",
    "Therefore, we can consider the properties of *displaced tracks* and *secondary vertices* (points of origin of collections of displaced tracks).\n",
    "In particular we quantify how displaced a track is in terms of its *impact parameter*.\n",
    "\n",
    "## Single b-tagging\n",
    "\n",
    "For single b-tagging, consider the following image:\n",
    "<img src=\"http://cms-results.web.cern.ch/cms-results/public-results/publications/BTV-16-002/CMS-BTV-16-002_Figure_001.png\" alt=\"b-tagging\" width=\"500\">\n",
    "\n",
    "For more information, read...\n",
    "\n",
    "## Double b-tagging\n",
    "\n",
    "For double b-tagging, consider the following image:\n",
    "<img src=\"Hbb.png\" alt=\"b-tagging\" width=\"500\">\n",
    "\n",
    "For this, we can also take advantage of the so-called *jet substructure*. For more information, read...\n"
   ]
  },
  {
   "cell_type": "code",
   "execution_count": null,
   "metadata": {},
   "outputs": [],
   "source": [
    "import uproot\n",
    "f = uproot.open('root://eospublic.cern.ch//eos/opendata/cms/datascience/HiggsToBBNtupleProducerTool/HiggsToBBNTuple_HiggsToBB_QCD_RunII_13TeV_MC/train/ntuple_merged_10.root')"
   ]
  },
  {
   "cell_type": "code",
   "execution_count": null,
   "metadata": {},
   "outputs": [],
   "source": [
    "tree = f['deepntuplizer/tree']"
   ]
  },
  {
   "cell_type": "code",
   "execution_count": null,
   "metadata": {},
   "outputs": [],
   "source": [
    "labels = tree.arrays(branches=['label_QCD_b', \n",
    "                               'label_QCD_bb', \n",
    "                               'label_QCD_c', \n",
    "                               'label_QCD_cc', \n",
    "                               'label_QCD_others', \n",
    "                               'label_H_bb', \n",
    "                               'sample_isQCD'], \n",
    "                     entrystop=20000)"
   ]
  },
  {
   "cell_type": "code",
   "execution_count": 18,
   "metadata": {},
   "outputs": [],
   "source": [
    "# label QCD: require the sample to be QCD and any of the QCD flavors\n",
    "label_QCD = labels[b'sample_isQCD'] * (labels[b'label_QCD_b']+labels[b'label_QCD_bb']+labels[b'label_QCD_c']+labels[b'label_QCD_cc']+labels[b'label_QCD_others'])\n",
    "\n",
    "# label Hbb\n",
    "label_Hbb = labels[b'label_H_bb']"
   ]
  },
  {
   "cell_type": "code",
   "execution_count": 19,
   "metadata": {},
   "outputs": [],
   "source": [
    "#tree.show()\n",
    "jet_features = tree.arrays(branches=['fj_pt', \n",
    "                                     'fj_sdmass',\n",
    "                                     'fj_tau21',\n",
    "                                     'fj_jetNTracks',\n",
    "                                     'fj_trackSipdSig_0',\n",
    "                                     'fj_trackSipdSig_1'],\n",
    "                          entrystop=20000)"
   ]
  },
  {
   "cell_type": "code",
   "execution_count": 21,
   "metadata": {},
   "outputs": [
    {
     "data": {
      "image/png": "[encoded data removed]",
      "text/plain": [
       "<Figure size 432x288 with 1 Axes>"
      ]
     },
     "metadata": {
      "needs_background": "light"
     },
     "output_type": "display_data"
    },
    {
     "data": {
      "image/png": "[encoded data removed]",
      "text/plain": [
       "<Figure size 432x288 with 1 Axes>"
      ]
     },
     "metadata": {
      "needs_background": "light"
     },
     "output_type": "display_data"
    },
    {
     "data": {
      "image/png": "[encoded data removed]",
      "text/plain": [
       "<Figure size 432x288 with 1 Axes>"
      ]
     },
     "metadata": {
      "needs_background": "light"
     },
     "output_type": "display_data"
    }
   ],
   "source": [
    "import matplotlib.pyplot as plt\n",
    "import numpy as np\n",
    "\n",
    "plt.figure()\n",
    "\n",
    "plt.hist(jet_features[b'fj_tau21'],weights=label_QCD,bins=np.linspace(0,1,101),density=True,alpha=0.7,label='QCD')\n",
    "plt.hist(jet_features[b'fj_tau21'],weights=label_Hbb,bins=np.linspace(0,1,101),density=True,alpha=0.7,label='H(bb)')\n",
    "plt.legend()\n",
    "\n",
    "plt.figure()\n",
    "plt.hist(jet_features[b'fj_trackSipdSig_0'],weights=label_QCD,bins=np.linspace(0,40,101),density=True,alpha=0.7,label='QCD')\n",
    "plt.hist(jet_features[b'fj_trackSipdSig_0'],weights=label_Hbb,bins=np.linspace(0,40,101),density=True,alpha=0.7,label='H(bb)')\n",
    "plt.legend()\n",
    "\n",
    "\n",
    "plt.figure()\n",
    "plt.hist(jet_features[b'fj_trackSipdSig_1'],weights=label_QCD,bins=np.linspace(0,40,101),density=True,alpha=0.7,label='QCD')\n",
    "plt.hist(jet_features[b'fj_trackSipdSig_1'],weights=label_Hbb,bins=np.linspace(0,40,101),density=True,alpha=0.7,label='H(bb)')\n",
    "plt.legend()\n",
    "\n",
    "\n",
    "plt.show()"
   ]
  },
  {
   "cell_type": "markdown",
   "metadata": {},
   "source": [
    "To read more about the features read this: http://opendata.cern.ch/record/12102\n",
    "\n",
    "\n",
    "Here is a selection:\n",
    "\n",
    "\n",
    "| Data variable | Type | Description |\n",
    "| :---------------------- | -----------------: | :---------------------- |\n",
    "| `sample_isQCD` | Float_t | Boolean that is 1 if the simulated sample corresponds to QCD multijet production |\n",
    "| `fj_jetNTracks` | Float_t | Number of tracks associated with the AK8 jet |\n",
    "| `fj_nSV` | Float_t | Number of SVs associated with the AK8 jet (∆R < 0.7) |\n",
    "| `fj_n_sdsubjets` | Float_t | Number of soft drop subjets in the AK8 jet (up to 2) |\n",
    "| `fj_mass` | Float_t | Ungroomed mass of the AK8 jet |\n",
    "| `fj_phi` | Float_t | Azimuthal angle ϕ of the AK8 jet |\n",
    "| `fj_pt` | Float_t | Transverse momentum of the AK8 jet |\n",
    "| `fj_tau1` | Float_t | N-subjettiness variable for a 1-prong jet hypothesis |\n",
    "| `fj_tau2` | Float_t | N-subjettiness variable for a 2-prong jet hypothesis |\n",
    "| `fj_tau3` | Float_t | N-subjettiness variable for a 3-prong jet hypothesis |\n",
    "| `fj_tau21` | Float_t | N-subjettiness variable for 2-prong vs 1-prong jet discrimination (`fj_tau2/fj_tau1`) |\n",
    "| `fj_tau32` | Float_t | N-subjettiness variable for 3-prong vs 2-prong jet discrimination (`fj_tau3/fj_tau2`) |\n",
    "| `fj_sdmass` | Float_t | Soft drop mass of the AK8 jet |\n",
    "| `fj_ptDR` | Float_t | Transverse momentum times the ΔR between the two soft drop subjets |\n",
    "| `fj_relptdiff` | Float_t | Absolute relative difference between the transverse momenta of the two softdrop subjets |\n",
    "| `fj_sdn2` | Float_t | Fraction of second subjet transverse momentum times ∆R squared |\n",
    "| `fj_sdsj1_axis1` | Float_t | First axis of the first subjet |\n",
    "| `fj_sdsj1_axis2` | Float_t | Second axis of the first subjet |\n",
    "| `fj_sdsj1_csv` | Float_t | Combined secondary vertex (CSV) b-tagging discriminant for the first subjet |\n",
    "| `fj_sdsj1_eta` | Float_t | Pseudorapidity η of the first subjet |\n",
    "| `fj_sdsj1_mass` | Float_t | Mass of the first subjet |\n",
    "| `fj_sdsj1_mult` | Float_t | Particle multiplicity of the first subjet |\n",
    "| `fj_sdsj1_phi` | Float_t | Azimuthal angle ϕ of the first subjet |\n",
    "| `fj_sdsj1_pt` | Float_t | Transverse momentum of the first subjet |\n",
    "| `fj_sdsj1_ptD` | Float_t | ptD variable, defined as the square root of the sum in quadrature of the transverse momentum of the subjet constituents divided by the scalar sum of the transverse momentum of the subjet constituents, for the first subjet (see [CMS-PAS-JME-13-002](https://cds.cern.ch/record/1599732)) |\n",
    "| `fj_sdsj2_axis1` | Float_t | First axis of the first subjet |\n",
    "| `fj_sdsj2_axis2` | Float_t | Second axis of the first subjet |\n",
    "| `fj_sdsj2_csv` | Float_t | Combined secondary vertex (CSV) b-tagging discriminant for the first subject |\n",
    "| `fj_sdsj2_eta` | Float_t | Pseudorapidity η of the second subjet |\n",
    "| `fj_sdsj2_mass` | Float_t | Mass of the second subjet |\n",
    "| `fj_sdsj2_mult` | Float_t | Particle multiplicity of the second subjet |\n",
    "| `fj_sdsj2_phi` | Float_t | Azimuthal angle ϕ of the second subjet |\n",
    "| `fj_sdsj2_pt` | Float_t | Transverse momentum of the second subjet |\n",
    "| `fj_sdsj2_ptD` | Float_t | ptD variable, defined as the square root of the sum in quadrature of the transverse momentum of the subjet constituents divided by the scalar sum of the transverse momentum of the subjet constituents, for the second subjet (see [CMS-PAS-JME-13-002](https://cds.cern.ch/record/1599732)) |\n",
    "| `fj_z_ratio` | Float_t | z ratio variable as defined in [CMS-BTV-16-002](http://cms-results.web.cern.ch/cms-results/public-results/publications/BTV-16-002/) |\n",
    "| `fj_trackSipdSig_0` | Float_t | First largest track 3D signed impact parameter significance (see [CMS-BTV-16-002](http://cms-results.web.cern.ch/cms-results/public-results/publications/BTV-16-002/) ) |\n",
    "| `fj_trackSipdSig_1` | Float_t | Second largest track 3D signed impact parameter significance (see [CMS-BTV-16-002](http://cms-results.web.cern.ch/cms-results/public-results/publications/BTV-16-002/) ) |\n",
    "| `fj_trackSipdSig_2` | Float_t | Third largest track 3D signed impact parameter significance (see [CMS-BTV-16-002](http://cms-results.web.cern.ch/cms-results/public-results/publications/BTV-16-002/) )  |\n",
    "| `fj_trackSipdSig_3` | Float_t | Fourth largest track 3D signed impact parameter significance (see [CMS-BTV-16-002](http://cms-results.web.cern.ch/cms-results/public-results/publications/BTV-16-002/) )  |\n",
    "| `fj_trackSipdSig_0_0` | Float_t | First largest track 3D signed impact parameter significance associated to the first N-subjettiness axis |\n",
    "| `fj_trackSipdSig_0_1` | Float_t | Second largest track 3D signed impact parameter significance associated to the first N-subjettiness axis |\n",
    "| `fj_trackSipdSig_1_0` | Float_t | First largest track 3D signed impact parameter significance associated to the second N-subjettiness axis |\n",
    "| `fj_trackSipdSig_1_1` | Float_t | Second largest track 3D signed impact parameter significance associated to the second N-subjettiness axis |\n",
    "| `fj_trackSip2dSigAboveCharm_0` | Float_t | Track 2D signed impact parameter significance of the first track lifting the combined invariant mass of the tracks above the c hadron threshold mass (1.5 GeV) |\n",
    "| `fj_trackSip2dSigAboveBottom_0` | Float_t | Track 2D signed impact parameter significance of the first track lifting the combined invariant mass of the tracks above b hadron threshold mass (5.2 GeV) |\n",
    "| `fj_trackSip2dSigAboveBottom_1` | Float_t | Track 2D signed impact parameter significance of the second track lifting the combined invariant mass of the tracks above b hadron threshold mass (5.2 GeV) |\n",
    "| `fj_tau0_trackEtaRel_0` | Float_t | Smallest track pseudorapidity ∆η, relative to the jet axis, associated to the first N-subjettiness axis |\n",
    "| `fj_tau0_trackEtaRel_1` | Float_t | Second smallest track pseudorapidity ∆η, relative to the jet axis, associated to the first N-subjettiness axis |\n",
    "| `fj_tau0_trackEtaRel_2` | Float_t | Third smallest track pseudorapidity ∆η, relative to the jet axis, associated to the first N-subjettiness axis |\n",
    "| `fj_tau1_trackEtaRel_0` | Float_t | Smallest track pseudorapidity ∆η, relative to the jet axis, associated to the second N-subjettiness axis |\n",
    "| `fj_tau1_trackEtaRel_1` | Float_t | Second smallest track pseudorapidity ∆η, relative to the jet axis, associated to the second N-subjettiness axis |\n",
    "| `fj_tau1_trackEtaRel_2` | Float_t | Third smallest track pseudorapidity ∆η, relative to the jet axis, associated to the second N-subjettiness axis |\n",
    "| `fj_tau_vertexMass_0` | Float_t | Total SV mass for the first N-subjettiness axis, defined as the invariant mass of all tracks from SVs associated with the first N-subjettiness axis |\n",
    "| `fj_tau_vertexMass_1` | Float_t | Total SV mass for the second N-subjettiness axis, defined as the invariant mass of all tracks from SVs associated with the second N-subjettiness axis |\n",
    "| `fj_tau_vertexEnergyRatio_0` | Float_t | SV vertex energy ratio for the first N-subjettiness axis, defined as the total energy of all SVs associated with the first N-subjettiness axis divided by the total energy of all the tracks associated with the AK8 jet that are consistent with the PV |\n",
    "| `fj_tau_vertexEnergyRatio_1` | Float_t | SV energy ratio for the second N-subjettiness axis, defined as the total energy of all SVs associated with the first N-subjettiness axis divided by the total energy of all the tracks associated with the AK8 jet that are consistent with the PV |\n",
    "| `fj_tau_flightDistance2dSig_0` | Float_t | Transverse (2D) flight distance significance between the PV and the SV with the smallest uncertainty on the 3D flight distance associated to the first N-subjettiness axis |\n",
    "| `fj_tau_flightDistance2dSig_1` | Float_t | Transverse (2D) flight distance significance between the PV and the SV with the smallest uncertainty on the 3D flight distance associated to the second N-subjettiness axis |\n",
    "| `fj_tau_vertexDeltaR_0` | Float_t | Pseudoangular distance ∆R between the first N-subjettiness axis and SV direction |"
   ]
  },
  {
   "cell_type": "code",
   "execution_count": null,
   "metadata": {},
   "outputs": [],
   "source": []
  }
 ],
 "metadata": {
  "kernelspec": {
   "display_name": "Python 3",
   "language": "python",
   "name": "python3"
  },
  "language_info": {
   "codemirror_mode": {
    "name": "ipython",
    "version": 3
   },
   "file_extension": ".py",
   "mimetype": "text/x-python",
   "name": "python",
   "nbconvert_exporter": "python",
   "pygments_lexer": "ipython3",
   "version": "3.7.6"
  }
 },
 "nbformat": 4,
 "nbformat_minor": 4
}
